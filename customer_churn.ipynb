{
 "cells": [
  {
   "cell_type": "markdown",
   "metadata": {
    "toc": true
   },
   "source": [
    "<h1>Содержание<span class=\"tocSkip\"></span></h1>\n",
    "<div class=\"toc\"><ul class=\"toc-item\"><li><span><a href=\"#Подготовка-данных\" data-toc-modified-id=\"Подготовка-данных-1\"><span class=\"toc-item-num\">1&nbsp;&nbsp;</span>Подготовка данных</a></span><ul class=\"toc-item\"><li><span><a href=\"#Изменение-типа-данных\" data-toc-modified-id=\"Изменение-типа-данных-1.1\"><span class=\"toc-item-num\">1.1&nbsp;&nbsp;</span>Изменение типа данных</a></span></li></ul></li><li><span><a href=\"#Исследование-задачи\" data-toc-modified-id=\"Исследование-задачи-2\"><span class=\"toc-item-num\">2&nbsp;&nbsp;</span>Исследование задачи</a></span></li><li><span><a href=\"#Борьба-с-дисбалансом\" data-toc-modified-id=\"Борьба-с-дисбалансом-3\"><span class=\"toc-item-num\">3&nbsp;&nbsp;</span>Борьба с дисбалансом</a></span></li><li><span><a href=\"#Тестирование-модели\" data-toc-modified-id=\"Тестирование-модели-4\"><span class=\"toc-item-num\">4&nbsp;&nbsp;</span>Тестирование модели</a></span></li><li><span><a href=\"#Чек-лист-готовности-проекта\" data-toc-modified-id=\"Чек-лист-готовности-проекта-5\"><span class=\"toc-item-num\">5&nbsp;&nbsp;</span>Чек-лист готовности проекта</a></span></li></ul></div>"
   ]
  },
  {
   "cell_type": "markdown",
   "metadata": {},
   "source": [
    "# Отток клиентов"
   ]
  },
  {
   "cell_type": "markdown",
   "metadata": {},
   "source": [
    "Из «Бета-Банка» стали уходить клиенты. Каждый месяц. Немного, но заметно. Банковские маркетологи посчитали: сохранять текущих клиентов дешевле, чем привлекать новых.\n",
    "\n",
    "Нужно спрогнозировать, уйдёт клиент из банка в ближайшее время или нет. Вам предоставлены исторические данные о поведении клиентов и расторжении договоров с банком. \n",
    "\n",
    "Постройте модель с предельно большим значением *F1*-меры. Чтобы сдать проект успешно, нужно довести метрику до 0.59. Проверьте *F1*-меру на тестовой выборке самостоятельно.\n",
    "\n",
    "Дополнительно измеряйте *AUC-ROC*, сравнивайте её значение с *F1*-мерой.\n",
    "\n",
    "Источник данных: [https://www.kaggle.com/barelydedicated/bank-customer-churn-modeling](https://www.kaggle.com/barelydedicated/bank-customer-churn-modeling)"
   ]
  },
  {
   "cell_type": "markdown",
   "metadata": {},
   "source": [
    "## Подготовка данных"
   ]
  },
  {
   "cell_type": "markdown",
   "metadata": {},
   "source": [
    "Используемые библиотеки"
   ]
  },
  {
   "cell_type": "code",
   "execution_count": 230,
   "metadata": {},
   "outputs": [],
   "source": [
    "import pandas as pd\n",
    "import xgboost as xgb\n",
    "from sklearn.model_selection import train_test_split\n",
    "from sklearn.linear_model import LogisticRegression\n",
    "from sklearn.metrics import roc_auc_score\n",
    "from sklearn.ensemble import RandomForestClassifier\n",
    "from sklearn.tree import DecisionTreeClassifier \n",
    "from sklearn.model_selection import train_test_split, GridSearchCV,RandomizedSearchCV\n",
    "from sklearn.metrics import mean_squared_error,accuracy_score, f1_score,r2_score,mean_absolute_error\n",
    "from sklearn.preprocessing import OneHotEncoder,PolynomialFeatures,MinMaxScaler,StandardScaler\n",
    "from sklearn.utils import shuffle\n",
    "from sklearn.dummy import DummyClassifier\n",
    "import matplotlib.pyplot as plt\n",
    "import seaborn as sns \n",
    "import numpy as np\n",
    "pd.options.display.float_format ='{:,.3f}'.format"
   ]
  },
  {
   "cell_type": "markdown",
   "metadata": {},
   "source": [
    "Используемые функции"
   ]
  },
  {
   "cell_type": "code",
   "execution_count": 130,
   "metadata": {},
   "outputs": [],
   "source": [
    "def df_info(df):\n",
    "    all_data = df.reset_index(drop=True)    \n",
    "    all_data_na = (all_data.isna().sum() / len(all_data))\n",
    "    missing_data = pd.DataFrame({'тип': df.dtypes})\n",
    "    if len(all_data_na[all_data_na!=0])>0:\n",
    "        missing_data['пропуски']= all_data_na.map(\"{:.1%}\".format)\n",
    "        display(missing_data)\n",
    "        print('Столбцов с NA:',len(all_data_na[all_data_na!=0]),'из',df.shape[1])\n",
    "    else:\n",
    "        display(missing_data)\n",
    "        print('Пропусков нет.') \n",
    "    if df.duplicated().sum()>0:\n",
    "        print('Дубликатов:',df.duplicated().sum())\n",
    "    else:\n",
    "        print('Дубликатов нет')\n",
    "    print(f'Структура : {all_data.shape}')\n",
    "    \n",
    "def optimizing_df(df):\n",
    "    for col in df.columns:\n",
    "        if df[col].dtypes.kind == 'i' or df[col].dtypes.kind == 'u':\n",
    "            if df[col].min() >= 0:\n",
    "                df[col] = pd.to_numeric(df[col], downcast='unsigned')\n",
    "            else:\n",
    "                df[col] = pd.to_numeric(df[col], downcast='integer')\n",
    "        elif df[col].dtypes.kind == 'f' or df[col].dtypes.kind == 'c':\n",
    "            df[col] = pd.to_numeric(df[col], downcast='float')\n",
    "        elif df[col].dtypes.kind == 'O':\n",
    "            num_unique_values = len(df[col].unique())\n",
    "            num_total_values = len(df[col])\n",
    "            if num_unique_values / num_total_values < 0.5:\n",
    "                df[col] = df[col].astype('category')\n",
    "    return df\n",
    "\n",
    "def upsample(features, target, repeat):\n",
    "    features_zeros = features[target == 0]\n",
    "    features_ones = features[target == 1]\n",
    "    target_zeros = target[target == 0]\n",
    "    target_ones = target[target == 1]\n",
    "\n",
    "    features_upsampled = pd.concat([features_zeros] + [features_ones] * repeat)\n",
    "    target_upsampled = pd.concat([target_zeros] + [target_ones] * repeat)\n",
    "    \n",
    "    features_upsampled, target_upsampled = shuffle(\n",
    "        features_upsampled, target_upsampled, random_state=12345)\n",
    "    \n",
    "    return features_upsampled, target_upsampled\n",
    "\n",
    "def downsample(features, target, fraction):\n",
    "    features_zeros = features[target == 0]\n",
    "    features_ones = features[target == 1]\n",
    "    target_zeros = target[target == 0]\n",
    "    target_ones = target[target == 1]\n",
    "\n",
    "    features_downsampled = pd.concat(\n",
    "        [features_zeros.sample(frac=fraction, random_state=12345)] + [features_ones])\n",
    "    target_downsampled = pd.concat(\n",
    "        [target_zeros.sample(frac=fraction, random_state=12345)] + [target_ones])\n",
    "    \n",
    "    features_downsampled, target_downsampled = shuffle(\n",
    "        features_downsampled, target_downsampled, random_state=12345)\n",
    "    \n",
    "    return features_downsampled, target_downsampled"
   ]
  },
  {
   "cell_type": "markdown",
   "metadata": {},
   "source": [
    "Загрузка датасета"
   ]
  },
  {
   "cell_type": "code",
   "execution_count": 3,
   "metadata": {},
   "outputs": [
    {
     "data": {
      "text/html": [
       "<div>\n",
       "<style scoped>\n",
       "    .dataframe tbody tr th:only-of-type {\n",
       "        vertical-align: middle;\n",
       "    }\n",
       "\n",
       "    .dataframe tbody tr th {\n",
       "        vertical-align: top;\n",
       "    }\n",
       "\n",
       "    .dataframe thead th {\n",
       "        text-align: right;\n",
       "    }\n",
       "</style>\n",
       "<table border=\"1\" class=\"dataframe\">\n",
       "  <thead>\n",
       "    <tr style=\"text-align: right;\">\n",
       "      <th></th>\n",
       "      <th>RowNumber</th>\n",
       "      <th>CustomerId</th>\n",
       "      <th>Surname</th>\n",
       "      <th>CreditScore</th>\n",
       "      <th>Geography</th>\n",
       "      <th>Gender</th>\n",
       "      <th>Age</th>\n",
       "      <th>Tenure</th>\n",
       "      <th>Balance</th>\n",
       "      <th>NumOfProducts</th>\n",
       "      <th>HasCrCard</th>\n",
       "      <th>IsActiveMember</th>\n",
       "      <th>EstimatedSalary</th>\n",
       "      <th>Exited</th>\n",
       "    </tr>\n",
       "  </thead>\n",
       "  <tbody>\n",
       "    <tr>\n",
       "      <th>0</th>\n",
       "      <td>1</td>\n",
       "      <td>15634602</td>\n",
       "      <td>Hargrave</td>\n",
       "      <td>619</td>\n",
       "      <td>France</td>\n",
       "      <td>Female</td>\n",
       "      <td>42</td>\n",
       "      <td>2.000</td>\n",
       "      <td>0.000</td>\n",
       "      <td>1</td>\n",
       "      <td>1</td>\n",
       "      <td>1</td>\n",
       "      <td>101,348.880</td>\n",
       "      <td>1</td>\n",
       "    </tr>\n",
       "    <tr>\n",
       "      <th>1</th>\n",
       "      <td>2</td>\n",
       "      <td>15647311</td>\n",
       "      <td>Hill</td>\n",
       "      <td>608</td>\n",
       "      <td>Spain</td>\n",
       "      <td>Female</td>\n",
       "      <td>41</td>\n",
       "      <td>1.000</td>\n",
       "      <td>83,807.860</td>\n",
       "      <td>1</td>\n",
       "      <td>0</td>\n",
       "      <td>1</td>\n",
       "      <td>112,542.580</td>\n",
       "      <td>0</td>\n",
       "    </tr>\n",
       "    <tr>\n",
       "      <th>2</th>\n",
       "      <td>3</td>\n",
       "      <td>15619304</td>\n",
       "      <td>Onio</td>\n",
       "      <td>502</td>\n",
       "      <td>France</td>\n",
       "      <td>Female</td>\n",
       "      <td>42</td>\n",
       "      <td>8.000</td>\n",
       "      <td>159,660.800</td>\n",
       "      <td>3</td>\n",
       "      <td>1</td>\n",
       "      <td>0</td>\n",
       "      <td>113,931.570</td>\n",
       "      <td>1</td>\n",
       "    </tr>\n",
       "    <tr>\n",
       "      <th>3</th>\n",
       "      <td>4</td>\n",
       "      <td>15701354</td>\n",
       "      <td>Boni</td>\n",
       "      <td>699</td>\n",
       "      <td>France</td>\n",
       "      <td>Female</td>\n",
       "      <td>39</td>\n",
       "      <td>1.000</td>\n",
       "      <td>0.000</td>\n",
       "      <td>2</td>\n",
       "      <td>0</td>\n",
       "      <td>0</td>\n",
       "      <td>93,826.630</td>\n",
       "      <td>0</td>\n",
       "    </tr>\n",
       "    <tr>\n",
       "      <th>4</th>\n",
       "      <td>5</td>\n",
       "      <td>15737888</td>\n",
       "      <td>Mitchell</td>\n",
       "      <td>850</td>\n",
       "      <td>Spain</td>\n",
       "      <td>Female</td>\n",
       "      <td>43</td>\n",
       "      <td>2.000</td>\n",
       "      <td>125,510.820</td>\n",
       "      <td>1</td>\n",
       "      <td>1</td>\n",
       "      <td>1</td>\n",
       "      <td>79,084.100</td>\n",
       "      <td>0</td>\n",
       "    </tr>\n",
       "  </tbody>\n",
       "</table>\n",
       "</div>"
      ],
      "text/plain": [
       "   RowNumber  CustomerId   Surname  CreditScore Geography  Gender  Age  \\\n",
       "0          1    15634602  Hargrave          619    France  Female   42   \n",
       "1          2    15647311      Hill          608     Spain  Female   41   \n",
       "2          3    15619304      Onio          502    France  Female   42   \n",
       "3          4    15701354      Boni          699    France  Female   39   \n",
       "4          5    15737888  Mitchell          850     Spain  Female   43   \n",
       "\n",
       "   Tenure     Balance  NumOfProducts  HasCrCard  IsActiveMember  \\\n",
       "0   2.000       0.000              1          1               1   \n",
       "1   1.000  83,807.860              1          0               1   \n",
       "2   8.000 159,660.800              3          1               0   \n",
       "3   1.000       0.000              2          0               0   \n",
       "4   2.000 125,510.820              1          1               1   \n",
       "\n",
       "   EstimatedSalary  Exited  \n",
       "0      101,348.880       1  \n",
       "1      112,542.580       0  \n",
       "2      113,931.570       1  \n",
       "3       93,826.630       0  \n",
       "4       79,084.100       0  "
      ]
     },
     "execution_count": 3,
     "metadata": {},
     "output_type": "execute_result"
    }
   ],
   "source": [
    "df = pd.read_csv('Churn.csv')\n",
    "df.head()"
   ]
  },
  {
   "cell_type": "markdown",
   "metadata": {},
   "source": [
    "Приведем названия параметров к нижнему регистру"
   ]
  },
  {
   "cell_type": "code",
   "execution_count": 4,
   "metadata": {},
   "outputs": [],
   "source": [
    "df.columns = df.columns.str.lower()"
   ]
  },
  {
   "cell_type": "markdown",
   "metadata": {},
   "source": [
    "Проверим значения на наличие выбросов"
   ]
  },
  {
   "cell_type": "code",
   "execution_count": 5,
   "metadata": {},
   "outputs": [
    {
     "data": {
      "text/plain": [
       "array(['France', 'Spain', 'Germany'], dtype=object)"
      ]
     },
     "execution_count": 5,
     "metadata": {},
     "output_type": "execute_result"
    }
   ],
   "source": [
    "df.geography.unique()"
   ]
  },
  {
   "cell_type": "code",
   "execution_count": 6,
   "metadata": {},
   "outputs": [
    {
     "data": {
      "text/plain": [
       "array(['Female', 'Male'], dtype=object)"
      ]
     },
     "execution_count": 6,
     "metadata": {},
     "output_type": "execute_result"
    }
   ],
   "source": [
    "df.gender.unique()"
   ]
  },
  {
   "cell_type": "code",
   "execution_count": 7,
   "metadata": {},
   "outputs": [
    {
     "data": {
      "text/plain": [
       "array([42, 41, 39, 43, 44, 50, 29, 27, 31, 24, 34, 25, 35, 45, 58, 32, 38,\n",
       "       46, 36, 33, 40, 51, 61, 49, 37, 19, 66, 56, 26, 21, 55, 75, 22, 30,\n",
       "       28, 65, 48, 52, 57, 73, 47, 54, 72, 20, 67, 79, 62, 53, 80, 59, 68,\n",
       "       23, 60, 70, 63, 64, 18, 82, 69, 74, 71, 76, 77, 88, 85, 84, 78, 81,\n",
       "       92, 83], dtype=int64)"
      ]
     },
     "execution_count": 7,
     "metadata": {},
     "output_type": "execute_result"
    }
   ],
   "source": [
    "df.age.unique()"
   ]
  },
  {
   "cell_type": "code",
   "execution_count": 8,
   "metadata": {},
   "outputs": [
    {
     "data": {
      "text/plain": [
       "array([1, 3, 2, 4], dtype=int64)"
      ]
     },
     "execution_count": 8,
     "metadata": {},
     "output_type": "execute_result"
    }
   ],
   "source": [
    "df.numofproducts.unique()"
   ]
  },
  {
   "cell_type": "code",
   "execution_count": 9,
   "metadata": {},
   "outputs": [
    {
     "data": {
      "text/plain": [
       "array([1, 0], dtype=int64)"
      ]
     },
     "execution_count": 9,
     "metadata": {},
     "output_type": "execute_result"
    }
   ],
   "source": [
    "df.hascrcard.unique()"
   ]
  },
  {
   "cell_type": "code",
   "execution_count": 10,
   "metadata": {},
   "outputs": [
    {
     "data": {
      "text/plain": [
       "array([1, 0], dtype=int64)"
      ]
     },
     "execution_count": 10,
     "metadata": {},
     "output_type": "execute_result"
    }
   ],
   "source": [
    "df.isactivemember.unique()"
   ]
  },
  {
   "cell_type": "code",
   "execution_count": 11,
   "metadata": {},
   "outputs": [
    {
     "data": {
      "text/plain": [
       "array([1, 0], dtype=int64)"
      ]
     },
     "execution_count": 11,
     "metadata": {},
     "output_type": "execute_result"
    }
   ],
   "source": [
    "df.exited.unique()"
   ]
  },
  {
   "cell_type": "code",
   "execution_count": 12,
   "metadata": {},
   "outputs": [
    {
     "data": {
      "text/html": [
       "<div>\n",
       "<style scoped>\n",
       "    .dataframe tbody tr th:only-of-type {\n",
       "        vertical-align: middle;\n",
       "    }\n",
       "\n",
       "    .dataframe tbody tr th {\n",
       "        vertical-align: top;\n",
       "    }\n",
       "\n",
       "    .dataframe thead th {\n",
       "        text-align: right;\n",
       "    }\n",
       "</style>\n",
       "<table border=\"1\" class=\"dataframe\">\n",
       "  <thead>\n",
       "    <tr style=\"text-align: right;\">\n",
       "      <th></th>\n",
       "      <th>count</th>\n",
       "      <th>mean</th>\n",
       "      <th>std</th>\n",
       "      <th>min</th>\n",
       "      <th>25%</th>\n",
       "      <th>50%</th>\n",
       "      <th>75%</th>\n",
       "      <th>max</th>\n",
       "    </tr>\n",
       "  </thead>\n",
       "  <tbody>\n",
       "    <tr>\n",
       "      <th>rownumber</th>\n",
       "      <td>10,000.000</td>\n",
       "      <td>5,000.500</td>\n",
       "      <td>2,886.896</td>\n",
       "      <td>1.000</td>\n",
       "      <td>2,500.750</td>\n",
       "      <td>5,000.500</td>\n",
       "      <td>7,500.250</td>\n",
       "      <td>10,000.000</td>\n",
       "    </tr>\n",
       "    <tr>\n",
       "      <th>customerid</th>\n",
       "      <td>10,000.000</td>\n",
       "      <td>15,690,940.569</td>\n",
       "      <td>71,936.186</td>\n",
       "      <td>15,565,701.000</td>\n",
       "      <td>15,628,528.250</td>\n",
       "      <td>15,690,738.000</td>\n",
       "      <td>15,753,233.750</td>\n",
       "      <td>15,815,690.000</td>\n",
       "    </tr>\n",
       "    <tr>\n",
       "      <th>creditscore</th>\n",
       "      <td>10,000.000</td>\n",
       "      <td>650.529</td>\n",
       "      <td>96.653</td>\n",
       "      <td>350.000</td>\n",
       "      <td>584.000</td>\n",
       "      <td>652.000</td>\n",
       "      <td>718.000</td>\n",
       "      <td>850.000</td>\n",
       "    </tr>\n",
       "    <tr>\n",
       "      <th>age</th>\n",
       "      <td>10,000.000</td>\n",
       "      <td>38.922</td>\n",
       "      <td>10.488</td>\n",
       "      <td>18.000</td>\n",
       "      <td>32.000</td>\n",
       "      <td>37.000</td>\n",
       "      <td>44.000</td>\n",
       "      <td>92.000</td>\n",
       "    </tr>\n",
       "    <tr>\n",
       "      <th>tenure</th>\n",
       "      <td>9,091.000</td>\n",
       "      <td>4.998</td>\n",
       "      <td>2.895</td>\n",
       "      <td>0.000</td>\n",
       "      <td>2.000</td>\n",
       "      <td>5.000</td>\n",
       "      <td>7.000</td>\n",
       "      <td>10.000</td>\n",
       "    </tr>\n",
       "    <tr>\n",
       "      <th>balance</th>\n",
       "      <td>10,000.000</td>\n",
       "      <td>76,485.889</td>\n",
       "      <td>62,397.405</td>\n",
       "      <td>0.000</td>\n",
       "      <td>0.000</td>\n",
       "      <td>97,198.540</td>\n",
       "      <td>127,644.240</td>\n",
       "      <td>250,898.090</td>\n",
       "    </tr>\n",
       "    <tr>\n",
       "      <th>numofproducts</th>\n",
       "      <td>10,000.000</td>\n",
       "      <td>1.530</td>\n",
       "      <td>0.582</td>\n",
       "      <td>1.000</td>\n",
       "      <td>1.000</td>\n",
       "      <td>1.000</td>\n",
       "      <td>2.000</td>\n",
       "      <td>4.000</td>\n",
       "    </tr>\n",
       "    <tr>\n",
       "      <th>hascrcard</th>\n",
       "      <td>10,000.000</td>\n",
       "      <td>0.706</td>\n",
       "      <td>0.456</td>\n",
       "      <td>0.000</td>\n",
       "      <td>0.000</td>\n",
       "      <td>1.000</td>\n",
       "      <td>1.000</td>\n",
       "      <td>1.000</td>\n",
       "    </tr>\n",
       "    <tr>\n",
       "      <th>isactivemember</th>\n",
       "      <td>10,000.000</td>\n",
       "      <td>0.515</td>\n",
       "      <td>0.500</td>\n",
       "      <td>0.000</td>\n",
       "      <td>0.000</td>\n",
       "      <td>1.000</td>\n",
       "      <td>1.000</td>\n",
       "      <td>1.000</td>\n",
       "    </tr>\n",
       "    <tr>\n",
       "      <th>estimatedsalary</th>\n",
       "      <td>10,000.000</td>\n",
       "      <td>100,090.240</td>\n",
       "      <td>57,510.493</td>\n",
       "      <td>11.580</td>\n",
       "      <td>51,002.110</td>\n",
       "      <td>100,193.915</td>\n",
       "      <td>149,388.247</td>\n",
       "      <td>199,992.480</td>\n",
       "    </tr>\n",
       "    <tr>\n",
       "      <th>exited</th>\n",
       "      <td>10,000.000</td>\n",
       "      <td>0.204</td>\n",
       "      <td>0.403</td>\n",
       "      <td>0.000</td>\n",
       "      <td>0.000</td>\n",
       "      <td>0.000</td>\n",
       "      <td>0.000</td>\n",
       "      <td>1.000</td>\n",
       "    </tr>\n",
       "  </tbody>\n",
       "</table>\n",
       "</div>"
      ],
      "text/plain": [
       "                     count           mean        std            min  \\\n",
       "rownumber       10,000.000      5,000.500  2,886.896          1.000   \n",
       "customerid      10,000.000 15,690,940.569 71,936.186 15,565,701.000   \n",
       "creditscore     10,000.000        650.529     96.653        350.000   \n",
       "age             10,000.000         38.922     10.488         18.000   \n",
       "tenure           9,091.000          4.998      2.895          0.000   \n",
       "balance         10,000.000     76,485.889 62,397.405          0.000   \n",
       "numofproducts   10,000.000          1.530      0.582          1.000   \n",
       "hascrcard       10,000.000          0.706      0.456          0.000   \n",
       "isactivemember  10,000.000          0.515      0.500          0.000   \n",
       "estimatedsalary 10,000.000    100,090.240 57,510.493         11.580   \n",
       "exited          10,000.000          0.204      0.403          0.000   \n",
       "\n",
       "                           25%            50%            75%            max  \n",
       "rownumber            2,500.750      5,000.500      7,500.250     10,000.000  \n",
       "customerid      15,628,528.250 15,690,738.000 15,753,233.750 15,815,690.000  \n",
       "creditscore            584.000        652.000        718.000        850.000  \n",
       "age                     32.000         37.000         44.000         92.000  \n",
       "tenure                   2.000          5.000          7.000         10.000  \n",
       "balance                  0.000     97,198.540    127,644.240    250,898.090  \n",
       "numofproducts            1.000          1.000          2.000          4.000  \n",
       "hascrcard                0.000          1.000          1.000          1.000  \n",
       "isactivemember           0.000          1.000          1.000          1.000  \n",
       "estimatedsalary     51,002.110    100,193.915    149,388.247    199,992.480  \n",
       "exited                   0.000          0.000          0.000          1.000  "
      ]
     },
     "execution_count": 12,
     "metadata": {},
     "output_type": "execute_result"
    }
   ],
   "source": [
    "df.describe().T"
   ]
  },
  {
   "cell_type": "markdown",
   "metadata": {},
   "source": [
    "Выбросы отсутствуют."
   ]
  },
  {
   "cell_type": "markdown",
   "metadata": {},
   "source": [
    "Проверим значения на наличие пропусков и дубликатов."
   ]
  },
  {
   "cell_type": "code",
   "execution_count": 13,
   "metadata": {},
   "outputs": [
    {
     "data": {
      "text/html": [
       "<div>\n",
       "<style scoped>\n",
       "    .dataframe tbody tr th:only-of-type {\n",
       "        vertical-align: middle;\n",
       "    }\n",
       "\n",
       "    .dataframe tbody tr th {\n",
       "        vertical-align: top;\n",
       "    }\n",
       "\n",
       "    .dataframe thead th {\n",
       "        text-align: right;\n",
       "    }\n",
       "</style>\n",
       "<table border=\"1\" class=\"dataframe\">\n",
       "  <thead>\n",
       "    <tr style=\"text-align: right;\">\n",
       "      <th></th>\n",
       "      <th>тип</th>\n",
       "      <th>пропуски</th>\n",
       "    </tr>\n",
       "  </thead>\n",
       "  <tbody>\n",
       "    <tr>\n",
       "      <th>rownumber</th>\n",
       "      <td>int64</td>\n",
       "      <td>0.0%</td>\n",
       "    </tr>\n",
       "    <tr>\n",
       "      <th>customerid</th>\n",
       "      <td>int64</td>\n",
       "      <td>0.0%</td>\n",
       "    </tr>\n",
       "    <tr>\n",
       "      <th>surname</th>\n",
       "      <td>object</td>\n",
       "      <td>0.0%</td>\n",
       "    </tr>\n",
       "    <tr>\n",
       "      <th>creditscore</th>\n",
       "      <td>int64</td>\n",
       "      <td>0.0%</td>\n",
       "    </tr>\n",
       "    <tr>\n",
       "      <th>geography</th>\n",
       "      <td>object</td>\n",
       "      <td>0.0%</td>\n",
       "    </tr>\n",
       "    <tr>\n",
       "      <th>gender</th>\n",
       "      <td>object</td>\n",
       "      <td>0.0%</td>\n",
       "    </tr>\n",
       "    <tr>\n",
       "      <th>age</th>\n",
       "      <td>int64</td>\n",
       "      <td>0.0%</td>\n",
       "    </tr>\n",
       "    <tr>\n",
       "      <th>tenure</th>\n",
       "      <td>float64</td>\n",
       "      <td>9.1%</td>\n",
       "    </tr>\n",
       "    <tr>\n",
       "      <th>balance</th>\n",
       "      <td>float64</td>\n",
       "      <td>0.0%</td>\n",
       "    </tr>\n",
       "    <tr>\n",
       "      <th>numofproducts</th>\n",
       "      <td>int64</td>\n",
       "      <td>0.0%</td>\n",
       "    </tr>\n",
       "    <tr>\n",
       "      <th>hascrcard</th>\n",
       "      <td>int64</td>\n",
       "      <td>0.0%</td>\n",
       "    </tr>\n",
       "    <tr>\n",
       "      <th>isactivemember</th>\n",
       "      <td>int64</td>\n",
       "      <td>0.0%</td>\n",
       "    </tr>\n",
       "    <tr>\n",
       "      <th>estimatedsalary</th>\n",
       "      <td>float64</td>\n",
       "      <td>0.0%</td>\n",
       "    </tr>\n",
       "    <tr>\n",
       "      <th>exited</th>\n",
       "      <td>int64</td>\n",
       "      <td>0.0%</td>\n",
       "    </tr>\n",
       "  </tbody>\n",
       "</table>\n",
       "</div>"
      ],
      "text/plain": [
       "                     тип пропуски\n",
       "rownumber          int64     0.0%\n",
       "customerid         int64     0.0%\n",
       "surname           object     0.0%\n",
       "creditscore        int64     0.0%\n",
       "geography         object     0.0%\n",
       "gender            object     0.0%\n",
       "age                int64     0.0%\n",
       "tenure           float64     9.1%\n",
       "balance          float64     0.0%\n",
       "numofproducts      int64     0.0%\n",
       "hascrcard          int64     0.0%\n",
       "isactivemember     int64     0.0%\n",
       "estimatedsalary  float64     0.0%\n",
       "exited             int64     0.0%"
      ]
     },
     "metadata": {},
     "output_type": "display_data"
    },
    {
     "name": "stdout",
     "output_type": "stream",
     "text": [
      "Столбцов с NA: 1 из 14\n",
      "Дубликатов нет\n",
      "Структура : (10000, 14)\n"
     ]
    }
   ],
   "source": [
    "df_info(df)"
   ]
  },
  {
   "cell_type": "markdown",
   "metadata": {},
   "source": [
    "Имеются пропуски по признаку 'tenure'. 9% довольно существенно для удаления. Попробуем найти критерии для восстановления или замены пропусков."
   ]
  },
  {
   "cell_type": "markdown",
   "metadata": {},
   "source": [
    "Посмотрим корреляцию по tenure, да и всех признаков в целом."
   ]
  },
  {
   "cell_type": "code",
   "execution_count": 14,
   "metadata": {},
   "outputs": [
    {
     "data": {
      "image/png": "[encoded data removed]",
      "text/plain": [
       "<Figure size 720x504 with 2 Axes>"
      ]
     },
     "metadata": {
      "needs_background": "light"
     },
     "output_type": "display_data"
    }
   ],
   "source": [
    "plt.figure(figsize = (10,7))\n",
    "sns.heatmap(df.corr(), cmap = 'Blues', annot = True)\n",
    "plt.title('Корреляционаая матрица')\n",
    "plt.show()"
   ]
  },
  {
   "cell_type": "markdown",
   "metadata": {},
   "source": [
    "Какая либо значимая корреляция между признаками отсутствует."
   ]
  },
  {
   "cell_type": "markdown",
   "metadata": {},
   "source": [
    "Посмотрим строки с пропущенными значениями"
   ]
  },
  {
   "cell_type": "code",
   "execution_count": 15,
   "metadata": {},
   "outputs": [
    {
     "data": {
      "text/html": [
       "<div>\n",
       "<style scoped>\n",
       "    .dataframe tbody tr th:only-of-type {\n",
       "        vertical-align: middle;\n",
       "    }\n",
       "\n",
       "    .dataframe tbody tr th {\n",
       "        vertical-align: top;\n",
       "    }\n",
       "\n",
       "    .dataframe thead th {\n",
       "        text-align: right;\n",
       "    }\n",
       "</style>\n",
       "<table border=\"1\" class=\"dataframe\">\n",
       "  <thead>\n",
       "    <tr style=\"text-align: right;\">\n",
       "      <th></th>\n",
       "      <th>rownumber</th>\n",
       "      <th>customerid</th>\n",
       "      <th>surname</th>\n",
       "      <th>creditscore</th>\n",
       "      <th>geography</th>\n",
       "      <th>gender</th>\n",
       "      <th>age</th>\n",
       "      <th>tenure</th>\n",
       "      <th>balance</th>\n",
       "      <th>numofproducts</th>\n",
       "      <th>hascrcard</th>\n",
       "      <th>isactivemember</th>\n",
       "      <th>estimatedsalary</th>\n",
       "      <th>exited</th>\n",
       "    </tr>\n",
       "  </thead>\n",
       "  <tbody>\n",
       "    <tr>\n",
       "      <th>30</th>\n",
       "      <td>31</td>\n",
       "      <td>15589475</td>\n",
       "      <td>Azikiwe</td>\n",
       "      <td>591</td>\n",
       "      <td>Spain</td>\n",
       "      <td>Female</td>\n",
       "      <td>39</td>\n",
       "      <td>NaN</td>\n",
       "      <td>0.000</td>\n",
       "      <td>3</td>\n",
       "      <td>1</td>\n",
       "      <td>0</td>\n",
       "      <td>140,469.380</td>\n",
       "      <td>1</td>\n",
       "    </tr>\n",
       "    <tr>\n",
       "      <th>48</th>\n",
       "      <td>49</td>\n",
       "      <td>15766205</td>\n",
       "      <td>Yin</td>\n",
       "      <td>550</td>\n",
       "      <td>Germany</td>\n",
       "      <td>Male</td>\n",
       "      <td>38</td>\n",
       "      <td>NaN</td>\n",
       "      <td>103,391.380</td>\n",
       "      <td>1</td>\n",
       "      <td>0</td>\n",
       "      <td>1</td>\n",
       "      <td>90,878.130</td>\n",
       "      <td>0</td>\n",
       "    </tr>\n",
       "    <tr>\n",
       "      <th>51</th>\n",
       "      <td>52</td>\n",
       "      <td>15768193</td>\n",
       "      <td>Trevisani</td>\n",
       "      <td>585</td>\n",
       "      <td>Germany</td>\n",
       "      <td>Male</td>\n",
       "      <td>36</td>\n",
       "      <td>NaN</td>\n",
       "      <td>146,050.970</td>\n",
       "      <td>2</td>\n",
       "      <td>0</td>\n",
       "      <td>0</td>\n",
       "      <td>86,424.570</td>\n",
       "      <td>0</td>\n",
       "    </tr>\n",
       "    <tr>\n",
       "      <th>53</th>\n",
       "      <td>54</td>\n",
       "      <td>15702298</td>\n",
       "      <td>Parkhill</td>\n",
       "      <td>655</td>\n",
       "      <td>Germany</td>\n",
       "      <td>Male</td>\n",
       "      <td>41</td>\n",
       "      <td>NaN</td>\n",
       "      <td>125,561.970</td>\n",
       "      <td>1</td>\n",
       "      <td>0</td>\n",
       "      <td>0</td>\n",
       "      <td>164,040.940</td>\n",
       "      <td>1</td>\n",
       "    </tr>\n",
       "    <tr>\n",
       "      <th>60</th>\n",
       "      <td>61</td>\n",
       "      <td>15651280</td>\n",
       "      <td>Hunter</td>\n",
       "      <td>742</td>\n",
       "      <td>Germany</td>\n",
       "      <td>Male</td>\n",
       "      <td>35</td>\n",
       "      <td>NaN</td>\n",
       "      <td>136,857.000</td>\n",
       "      <td>1</td>\n",
       "      <td>0</td>\n",
       "      <td>0</td>\n",
       "      <td>84,509.570</td>\n",
       "      <td>0</td>\n",
       "    </tr>\n",
       "    <tr>\n",
       "      <th>...</th>\n",
       "      <td>...</td>\n",
       "      <td>...</td>\n",
       "      <td>...</td>\n",
       "      <td>...</td>\n",
       "      <td>...</td>\n",
       "      <td>...</td>\n",
       "      <td>...</td>\n",
       "      <td>...</td>\n",
       "      <td>...</td>\n",
       "      <td>...</td>\n",
       "      <td>...</td>\n",
       "      <td>...</td>\n",
       "      <td>...</td>\n",
       "      <td>...</td>\n",
       "    </tr>\n",
       "    <tr>\n",
       "      <th>9944</th>\n",
       "      <td>9945</td>\n",
       "      <td>15703923</td>\n",
       "      <td>Cameron</td>\n",
       "      <td>744</td>\n",
       "      <td>Germany</td>\n",
       "      <td>Male</td>\n",
       "      <td>41</td>\n",
       "      <td>NaN</td>\n",
       "      <td>190,409.340</td>\n",
       "      <td>2</td>\n",
       "      <td>1</td>\n",
       "      <td>1</td>\n",
       "      <td>138,361.480</td>\n",
       "      <td>0</td>\n",
       "    </tr>\n",
       "    <tr>\n",
       "      <th>9956</th>\n",
       "      <td>9957</td>\n",
       "      <td>15707861</td>\n",
       "      <td>Nucci</td>\n",
       "      <td>520</td>\n",
       "      <td>France</td>\n",
       "      <td>Female</td>\n",
       "      <td>46</td>\n",
       "      <td>NaN</td>\n",
       "      <td>85,216.610</td>\n",
       "      <td>1</td>\n",
       "      <td>1</td>\n",
       "      <td>0</td>\n",
       "      <td>117,369.520</td>\n",
       "      <td>1</td>\n",
       "    </tr>\n",
       "    <tr>\n",
       "      <th>9964</th>\n",
       "      <td>9965</td>\n",
       "      <td>15642785</td>\n",
       "      <td>Douglas</td>\n",
       "      <td>479</td>\n",
       "      <td>France</td>\n",
       "      <td>Male</td>\n",
       "      <td>34</td>\n",
       "      <td>NaN</td>\n",
       "      <td>117,593.480</td>\n",
       "      <td>2</td>\n",
       "      <td>0</td>\n",
       "      <td>0</td>\n",
       "      <td>113,308.290</td>\n",
       "      <td>0</td>\n",
       "    </tr>\n",
       "    <tr>\n",
       "      <th>9985</th>\n",
       "      <td>9986</td>\n",
       "      <td>15586914</td>\n",
       "      <td>Nepean</td>\n",
       "      <td>659</td>\n",
       "      <td>France</td>\n",
       "      <td>Male</td>\n",
       "      <td>36</td>\n",
       "      <td>NaN</td>\n",
       "      <td>123,841.490</td>\n",
       "      <td>2</td>\n",
       "      <td>1</td>\n",
       "      <td>0</td>\n",
       "      <td>96,833.000</td>\n",
       "      <td>0</td>\n",
       "    </tr>\n",
       "    <tr>\n",
       "      <th>9999</th>\n",
       "      <td>10000</td>\n",
       "      <td>15628319</td>\n",
       "      <td>Walker</td>\n",
       "      <td>792</td>\n",
       "      <td>France</td>\n",
       "      <td>Female</td>\n",
       "      <td>28</td>\n",
       "      <td>NaN</td>\n",
       "      <td>130,142.790</td>\n",
       "      <td>1</td>\n",
       "      <td>1</td>\n",
       "      <td>0</td>\n",
       "      <td>38,190.780</td>\n",
       "      <td>0</td>\n",
       "    </tr>\n",
       "  </tbody>\n",
       "</table>\n",
       "<p>909 rows × 14 columns</p>\n",
       "</div>"
      ],
      "text/plain": [
       "      rownumber  customerid    surname  creditscore geography  gender  age  \\\n",
       "30           31    15589475    Azikiwe          591     Spain  Female   39   \n",
       "48           49    15766205        Yin          550   Germany    Male   38   \n",
       "51           52    15768193  Trevisani          585   Germany    Male   36   \n",
       "53           54    15702298   Parkhill          655   Germany    Male   41   \n",
       "60           61    15651280     Hunter          742   Germany    Male   35   \n",
       "...         ...         ...        ...          ...       ...     ...  ...   \n",
       "9944       9945    15703923    Cameron          744   Germany    Male   41   \n",
       "9956       9957    15707861      Nucci          520    France  Female   46   \n",
       "9964       9965    15642785    Douglas          479    France    Male   34   \n",
       "9985       9986    15586914     Nepean          659    France    Male   36   \n",
       "9999      10000    15628319     Walker          792    France  Female   28   \n",
       "\n",
       "      tenure     balance  numofproducts  hascrcard  isactivemember  \\\n",
       "30       NaN       0.000              3          1               0   \n",
       "48       NaN 103,391.380              1          0               1   \n",
       "51       NaN 146,050.970              2          0               0   \n",
       "53       NaN 125,561.970              1          0               0   \n",
       "60       NaN 136,857.000              1          0               0   \n",
       "...      ...         ...            ...        ...             ...   \n",
       "9944     NaN 190,409.340              2          1               1   \n",
       "9956     NaN  85,216.610              1          1               0   \n",
       "9964     NaN 117,593.480              2          0               0   \n",
       "9985     NaN 123,841.490              2          1               0   \n",
       "9999     NaN 130,142.790              1          1               0   \n",
       "\n",
       "      estimatedsalary  exited  \n",
       "30        140,469.380       1  \n",
       "48         90,878.130       0  \n",
       "51         86,424.570       0  \n",
       "53        164,040.940       1  \n",
       "60         84,509.570       0  \n",
       "...               ...     ...  \n",
       "9944      138,361.480       0  \n",
       "9956      117,369.520       1  \n",
       "9964      113,308.290       0  \n",
       "9985       96,833.000       0  \n",
       "9999       38,190.780       0  \n",
       "\n",
       "[909 rows x 14 columns]"
      ]
     },
     "execution_count": 15,
     "metadata": {},
     "output_type": "execute_result"
    }
   ],
   "source": [
    "df.loc[df.tenure.isna()]"
   ]
  },
  {
   "cell_type": "markdown",
   "metadata": {},
   "source": [
    "Попробуем понять к чему относятся пропущенные значения по времени использования услуг. "
   ]
  },
  {
   "cell_type": "code",
   "execution_count": 16,
   "metadata": {},
   "outputs": [
    {
     "data": {
      "text/html": [
       "<div>\n",
       "<style scoped>\n",
       "    .dataframe tbody tr th:only-of-type {\n",
       "        vertical-align: middle;\n",
       "    }\n",
       "\n",
       "    .dataframe tbody tr th {\n",
       "        vertical-align: top;\n",
       "    }\n",
       "\n",
       "    .dataframe thead th {\n",
       "        text-align: right;\n",
       "    }\n",
       "</style>\n",
       "<table border=\"1\" class=\"dataframe\">\n",
       "  <thead>\n",
       "    <tr style=\"text-align: right;\">\n",
       "      <th></th>\n",
       "      <th>rownumber</th>\n",
       "      <th>customerid</th>\n",
       "      <th>creditscore</th>\n",
       "      <th>age</th>\n",
       "      <th>balance</th>\n",
       "      <th>numofproducts</th>\n",
       "      <th>hascrcard</th>\n",
       "      <th>isactivemember</th>\n",
       "      <th>estimatedsalary</th>\n",
       "      <th>exited</th>\n",
       "    </tr>\n",
       "    <tr>\n",
       "      <th>tenure</th>\n",
       "      <th></th>\n",
       "      <th></th>\n",
       "      <th></th>\n",
       "      <th></th>\n",
       "      <th></th>\n",
       "      <th></th>\n",
       "      <th></th>\n",
       "      <th></th>\n",
       "      <th></th>\n",
       "      <th></th>\n",
       "    </tr>\n",
       "  </thead>\n",
       "  <tbody>\n",
       "    <tr>\n",
       "      <th>0.000</th>\n",
       "      <td>5,107.500</td>\n",
       "      <td>15,696,410.000</td>\n",
       "      <td>653.000</td>\n",
       "      <td>38.000</td>\n",
       "      <td>101,050.445</td>\n",
       "      <td>1.000</td>\n",
       "      <td>1.000</td>\n",
       "      <td>1.000</td>\n",
       "      <td>102,160.510</td>\n",
       "      <td>0.000</td>\n",
       "    </tr>\n",
       "    <tr>\n",
       "      <th>1.000</th>\n",
       "      <td>5,167.000</td>\n",
       "      <td>15,692,461.000</td>\n",
       "      <td>652.000</td>\n",
       "      <td>38.000</td>\n",
       "      <td>97,842.705</td>\n",
       "      <td>1.000</td>\n",
       "      <td>1.000</td>\n",
       "      <td>1.000</td>\n",
       "      <td>101,970.470</td>\n",
       "      <td>0.000</td>\n",
       "    </tr>\n",
       "    <tr>\n",
       "      <th>2.000</th>\n",
       "      <td>4,972.500</td>\n",
       "      <td>15,696,847.000</td>\n",
       "      <td>655.000</td>\n",
       "      <td>38.000</td>\n",
       "      <td>97,364.045</td>\n",
       "      <td>2.000</td>\n",
       "      <td>1.000</td>\n",
       "      <td>1.000</td>\n",
       "      <td>97,613.545</td>\n",
       "      <td>0.000</td>\n",
       "    </tr>\n",
       "    <tr>\n",
       "      <th>3.000</th>\n",
       "      <td>4,845.500</td>\n",
       "      <td>15,697,350.500</td>\n",
       "      <td>652.000</td>\n",
       "      <td>37.000</td>\n",
       "      <td>99,739.770</td>\n",
       "      <td>1.000</td>\n",
       "      <td>1.000</td>\n",
       "      <td>1.000</td>\n",
       "      <td>94,368.490</td>\n",
       "      <td>0.000</td>\n",
       "    </tr>\n",
       "    <tr>\n",
       "      <th>4.000</th>\n",
       "      <td>5,089.000</td>\n",
       "      <td>15,690,164.000</td>\n",
       "      <td>651.000</td>\n",
       "      <td>37.000</td>\n",
       "      <td>93,059.340</td>\n",
       "      <td>1.000</td>\n",
       "      <td>1.000</td>\n",
       "      <td>1.000</td>\n",
       "      <td>101,371.050</td>\n",
       "      <td>0.000</td>\n",
       "    </tr>\n",
       "    <tr>\n",
       "      <th>5.000</th>\n",
       "      <td>4,897.000</td>\n",
       "      <td>15,680,683.000</td>\n",
       "      <td>654.000</td>\n",
       "      <td>38.000</td>\n",
       "      <td>94,754.000</td>\n",
       "      <td>2.000</td>\n",
       "      <td>1.000</td>\n",
       "      <td>1.000</td>\n",
       "      <td>100,941.570</td>\n",
       "      <td>0.000</td>\n",
       "    </tr>\n",
       "    <tr>\n",
       "      <th>6.000</th>\n",
       "      <td>5,079.000</td>\n",
       "      <td>15,692,291.000</td>\n",
       "      <td>648.000</td>\n",
       "      <td>37.000</td>\n",
       "      <td>96,166.880</td>\n",
       "      <td>1.000</td>\n",
       "      <td>1.000</td>\n",
       "      <td>1.000</td>\n",
       "      <td>98,090.910</td>\n",
       "      <td>0.000</td>\n",
       "    </tr>\n",
       "    <tr>\n",
       "      <th>7.000</th>\n",
       "      <td>4,905.000</td>\n",
       "      <td>15,690,939.000</td>\n",
       "      <td>650.000</td>\n",
       "      <td>37.000</td>\n",
       "      <td>97,459.060</td>\n",
       "      <td>1.000</td>\n",
       "      <td>1.000</td>\n",
       "      <td>1.000</td>\n",
       "      <td>104,379.360</td>\n",
       "      <td>0.000</td>\n",
       "    </tr>\n",
       "    <tr>\n",
       "      <th>8.000</th>\n",
       "      <td>4,857.000</td>\n",
       "      <td>15,684,921.000</td>\n",
       "      <td>651.000</td>\n",
       "      <td>37.000</td>\n",
       "      <td>98,649.550</td>\n",
       "      <td>1.000</td>\n",
       "      <td>1.000</td>\n",
       "      <td>1.000</td>\n",
       "      <td>99,654.130</td>\n",
       "      <td>0.000</td>\n",
       "    </tr>\n",
       "    <tr>\n",
       "      <th>9.000</th>\n",
       "      <td>5,145.000</td>\n",
       "      <td>15,690,642.000</td>\n",
       "      <td>658.000</td>\n",
       "      <td>38.000</td>\n",
       "      <td>100,502.610</td>\n",
       "      <td>1.000</td>\n",
       "      <td>1.000</td>\n",
       "      <td>0.000</td>\n",
       "      <td>100,114.385</td>\n",
       "      <td>0.000</td>\n",
       "    </tr>\n",
       "    <tr>\n",
       "      <th>10.000</th>\n",
       "      <td>5,158.500</td>\n",
       "      <td>15,692,923.500</td>\n",
       "      <td>651.500</td>\n",
       "      <td>38.000</td>\n",
       "      <td>92,327.835</td>\n",
       "      <td>2.000</td>\n",
       "      <td>1.000</td>\n",
       "      <td>1.000</td>\n",
       "      <td>101,505.860</td>\n",
       "      <td>0.000</td>\n",
       "    </tr>\n",
       "    <tr>\n",
       "      <th>NaN</th>\n",
       "      <td>4,887.000</td>\n",
       "      <td>15,686,870.000</td>\n",
       "      <td>647.000</td>\n",
       "      <td>37.000</td>\n",
       "      <td>96,674.550</td>\n",
       "      <td>1.000</td>\n",
       "      <td>1.000</td>\n",
       "      <td>1.000</td>\n",
       "      <td>99,444.020</td>\n",
       "      <td>0.000</td>\n",
       "    </tr>\n",
       "  </tbody>\n",
       "</table>\n",
       "</div>"
      ],
      "text/plain": [
       "        rownumber     customerid  creditscore    age     balance  \\\n",
       "tenure                                                             \n",
       "0.000   5,107.500 15,696,410.000      653.000 38.000 101,050.445   \n",
       "1.000   5,167.000 15,692,461.000      652.000 38.000  97,842.705   \n",
       "2.000   4,972.500 15,696,847.000      655.000 38.000  97,364.045   \n",
       "3.000   4,845.500 15,697,350.500      652.000 37.000  99,739.770   \n",
       "4.000   5,089.000 15,690,164.000      651.000 37.000  93,059.340   \n",
       "5.000   4,897.000 15,680,683.000      654.000 38.000  94,754.000   \n",
       "6.000   5,079.000 15,692,291.000      648.000 37.000  96,166.880   \n",
       "7.000   4,905.000 15,690,939.000      650.000 37.000  97,459.060   \n",
       "8.000   4,857.000 15,684,921.000      651.000 37.000  98,649.550   \n",
       "9.000   5,145.000 15,690,642.000      658.000 38.000 100,502.610   \n",
       "10.000  5,158.500 15,692,923.500      651.500 38.000  92,327.835   \n",
       "NaN     4,887.000 15,686,870.000      647.000 37.000  96,674.550   \n",
       "\n",
       "        numofproducts  hascrcard  isactivemember  estimatedsalary  exited  \n",
       "tenure                                                                     \n",
       "0.000           1.000      1.000           1.000      102,160.510   0.000  \n",
       "1.000           1.000      1.000           1.000      101,970.470   0.000  \n",
       "2.000           2.000      1.000           1.000       97,613.545   0.000  \n",
       "3.000           1.000      1.000           1.000       94,368.490   0.000  \n",
       "4.000           1.000      1.000           1.000      101,371.050   0.000  \n",
       "5.000           2.000      1.000           1.000      100,941.570   0.000  \n",
       "6.000           1.000      1.000           1.000       98,090.910   0.000  \n",
       "7.000           1.000      1.000           1.000      104,379.360   0.000  \n",
       "8.000           1.000      1.000           1.000       99,654.130   0.000  \n",
       "9.000           1.000      1.000           0.000      100,114.385   0.000  \n",
       "10.000          2.000      1.000           1.000      101,505.860   0.000  \n",
       "NaN             1.000      1.000           1.000       99,444.020   0.000  "
      ]
     },
     "execution_count": 16,
     "metadata": {},
     "output_type": "execute_result"
    }
   ],
   "source": [
    "df.groupby('tenure',dropna=False).agg('median')"
   ]
  },
  {
   "cell_type": "code",
   "execution_count": 17,
   "metadata": {},
   "outputs": [
    {
     "data": {
      "text/html": [
       "<div>\n",
       "<style scoped>\n",
       "    .dataframe tbody tr th:only-of-type {\n",
       "        vertical-align: middle;\n",
       "    }\n",
       "\n",
       "    .dataframe tbody tr th {\n",
       "        vertical-align: top;\n",
       "    }\n",
       "\n",
       "    .dataframe thead th {\n",
       "        text-align: right;\n",
       "    }\n",
       "</style>\n",
       "<table border=\"1\" class=\"dataframe\">\n",
       "  <thead>\n",
       "    <tr style=\"text-align: right;\">\n",
       "      <th></th>\n",
       "      <th>rownumber</th>\n",
       "      <th>customerid</th>\n",
       "      <th>creditscore</th>\n",
       "      <th>age</th>\n",
       "      <th>balance</th>\n",
       "      <th>numofproducts</th>\n",
       "      <th>hascrcard</th>\n",
       "      <th>isactivemember</th>\n",
       "      <th>estimatedsalary</th>\n",
       "      <th>exited</th>\n",
       "    </tr>\n",
       "    <tr>\n",
       "      <th>tenure</th>\n",
       "      <th></th>\n",
       "      <th></th>\n",
       "      <th></th>\n",
       "      <th></th>\n",
       "      <th></th>\n",
       "      <th></th>\n",
       "      <th></th>\n",
       "      <th></th>\n",
       "      <th></th>\n",
       "      <th></th>\n",
       "    </tr>\n",
       "  </thead>\n",
       "  <tbody>\n",
       "    <tr>\n",
       "      <th>0.000</th>\n",
       "      <td>5,107.500</td>\n",
       "      <td>15,696,410.000</td>\n",
       "      <td>653.000</td>\n",
       "      <td>38.000</td>\n",
       "      <td>101,050.445</td>\n",
       "      <td>1.000</td>\n",
       "      <td>1.000</td>\n",
       "      <td>1.000</td>\n",
       "      <td>102,160.510</td>\n",
       "      <td>0.000</td>\n",
       "    </tr>\n",
       "    <tr>\n",
       "      <th>10.000</th>\n",
       "      <td>5,158.500</td>\n",
       "      <td>15,692,923.500</td>\n",
       "      <td>651.500</td>\n",
       "      <td>38.000</td>\n",
       "      <td>92,327.835</td>\n",
       "      <td>2.000</td>\n",
       "      <td>1.000</td>\n",
       "      <td>1.000</td>\n",
       "      <td>101,505.860</td>\n",
       "      <td>0.000</td>\n",
       "    </tr>\n",
       "    <tr>\n",
       "      <th>NaN</th>\n",
       "      <td>4,887.000</td>\n",
       "      <td>15,686,870.000</td>\n",
       "      <td>647.000</td>\n",
       "      <td>37.000</td>\n",
       "      <td>96,674.550</td>\n",
       "      <td>1.000</td>\n",
       "      <td>1.000</td>\n",
       "      <td>1.000</td>\n",
       "      <td>99,444.020</td>\n",
       "      <td>0.000</td>\n",
       "    </tr>\n",
       "  </tbody>\n",
       "</table>\n",
       "</div>"
      ],
      "text/plain": [
       "        rownumber     customerid  creditscore    age     balance  \\\n",
       "tenure                                                             \n",
       "0.000   5,107.500 15,696,410.000      653.000 38.000 101,050.445   \n",
       "10.000  5,158.500 15,692,923.500      651.500 38.000  92,327.835   \n",
       "NaN     4,887.000 15,686,870.000      647.000 37.000  96,674.550   \n",
       "\n",
       "        numofproducts  hascrcard  isactivemember  estimatedsalary  exited  \n",
       "tenure                                                                     \n",
       "0.000           1.000      1.000           1.000      102,160.510   0.000  \n",
       "10.000          2.000      1.000           1.000      101,505.860   0.000  \n",
       "NaN             1.000      1.000           1.000       99,444.020   0.000  "
      ]
     },
     "execution_count": 17,
     "metadata": {},
     "output_type": "execute_result"
    }
   ],
   "source": [
    "sub=df.groupby('tenure',dropna=False).agg('median')\n",
    "sub.loc[(sub.index==0.0) | (sub.index==10.0) | (sub.index.isna())]"
   ]
  },
  {
   "cell_type": "markdown",
   "metadata": {},
   "source": [
    "Принадлежность к определенной группе прослеживается слабо. Но мы видим, что преобладающее количество открытых продуктов равно 1. Поэтому будем считать, что пропуски в параметре - это клиенты, которые пользовались услугами меньше года. Заменим все пропуски на 0."
   ]
  },
  {
   "cell_type": "code",
   "execution_count": 18,
   "metadata": {},
   "outputs": [],
   "source": [
    "df['tenure']=df['tenure'].fillna(0)"
   ]
  },
  {
   "cell_type": "markdown",
   "metadata": {},
   "source": [
    "Изменим типы данных для уменьшения занимаемой памяти и увеличения скорости вычислений."
   ]
  },
  {
   "cell_type": "code",
   "execution_count": 20,
   "metadata": {},
   "outputs": [
    {
     "name": "stdout",
     "output_type": "stream",
     "text": [
      "<class 'pandas.core.frame.DataFrame'>\n",
      "RangeIndex: 10000 entries, 0 to 9999\n",
      "Data columns (total 14 columns):\n",
      " #   Column           Non-Null Count  Dtype  \n",
      "---  ------           --------------  -----  \n",
      " 0   rownumber        10000 non-null  int64  \n",
      " 1   customerid       10000 non-null  int64  \n",
      " 2   surname          10000 non-null  object \n",
      " 3   creditscore      10000 non-null  int64  \n",
      " 4   geography        10000 non-null  object \n",
      " 5   gender           10000 non-null  object \n",
      " 6   age              10000 non-null  int64  \n",
      " 7   tenure           10000 non-null  float64\n",
      " 8   balance          10000 non-null  float64\n",
      " 9   numofproducts    10000 non-null  int64  \n",
      " 10  hascrcard        10000 non-null  int64  \n",
      " 11  isactivemember   10000 non-null  int64  \n",
      " 12  estimatedsalary  10000 non-null  float64\n",
      " 13  exited           10000 non-null  int64  \n",
      "dtypes: float64(3), int64(8), object(3)\n",
      "memory usage: 1.1+ MB\n"
     ]
    }
   ],
   "source": [
    "df.info()"
   ]
  },
  {
   "cell_type": "code",
   "execution_count": 21,
   "metadata": {},
   "outputs": [
    {
     "name": "stdout",
     "output_type": "stream",
     "text": [
      "<class 'pandas.core.frame.DataFrame'>\n",
      "RangeIndex: 10000 entries, 0 to 9999\n",
      "Data columns (total 14 columns):\n",
      " #   Column           Non-Null Count  Dtype   \n",
      "---  ------           --------------  -----   \n",
      " 0   rownumber        10000 non-null  uint16  \n",
      " 1   customerid       10000 non-null  uint32  \n",
      " 2   surname          10000 non-null  category\n",
      " 3   creditscore      10000 non-null  uint16  \n",
      " 4   geography        10000 non-null  category\n",
      " 5   gender           10000 non-null  category\n",
      " 6   age              10000 non-null  uint8   \n",
      " 7   tenure           10000 non-null  float32 \n",
      " 8   balance          10000 non-null  float32 \n",
      " 9   numofproducts    10000 non-null  uint8   \n",
      " 10  hascrcard        10000 non-null  uint8   \n",
      " 11  isactivemember   10000 non-null  uint8   \n",
      " 12  estimatedsalary  10000 non-null  float32 \n",
      " 13  exited           10000 non-null  uint8   \n",
      "dtypes: category(3), float32(3), uint16(2), uint32(1), uint8(5)\n",
      "memory usage: 371.0 KB\n"
     ]
    }
   ],
   "source": [
    "df=optimizing_df(df)\n",
    "df.info()"
   ]
  },
  {
   "cell_type": "markdown",
   "metadata": {},
   "source": [
    "Используем OrdinalEncoder для преобразования категорийных признаков к числу"
   ]
  },
  {
   "cell_type": "code",
   "execution_count": 22,
   "metadata": {},
   "outputs": [
    {
     "data": {
      "text/html": [
       "<div>\n",
       "<style scoped>\n",
       "    .dataframe tbody tr th:only-of-type {\n",
       "        vertical-align: middle;\n",
       "    }\n",
       "\n",
       "    .dataframe tbody tr th {\n",
       "        vertical-align: top;\n",
       "    }\n",
       "\n",
       "    .dataframe thead th {\n",
       "        text-align: right;\n",
       "    }\n",
       "</style>\n",
       "<table border=\"1\" class=\"dataframe\">\n",
       "  <thead>\n",
       "    <tr style=\"text-align: right;\">\n",
       "      <th></th>\n",
       "      <th>rownumber</th>\n",
       "      <th>customerid</th>\n",
       "      <th>surname</th>\n",
       "      <th>creditscore</th>\n",
       "      <th>geography</th>\n",
       "      <th>gender</th>\n",
       "      <th>age</th>\n",
       "      <th>tenure</th>\n",
       "      <th>balance</th>\n",
       "      <th>numofproducts</th>\n",
       "      <th>hascrcard</th>\n",
       "      <th>isactivemember</th>\n",
       "      <th>estimatedsalary</th>\n",
       "      <th>exited</th>\n",
       "      <th>g_Female</th>\n",
       "      <th>g_Male</th>\n",
       "      <th>geo_France</th>\n",
       "      <th>geo_Germany</th>\n",
       "      <th>geo_Spain</th>\n",
       "    </tr>\n",
       "  </thead>\n",
       "  <tbody>\n",
       "    <tr>\n",
       "      <th>0</th>\n",
       "      <td>1</td>\n",
       "      <td>15634602</td>\n",
       "      <td>Hargrave</td>\n",
       "      <td>619</td>\n",
       "      <td>France</td>\n",
       "      <td>Female</td>\n",
       "      <td>42</td>\n",
       "      <td>2.000</td>\n",
       "      <td>0.000</td>\n",
       "      <td>1</td>\n",
       "      <td>1</td>\n",
       "      <td>1</td>\n",
       "      <td>101,348.883</td>\n",
       "      <td>1</td>\n",
       "      <td>1</td>\n",
       "      <td>0</td>\n",
       "      <td>1</td>\n",
       "      <td>0</td>\n",
       "      <td>0</td>\n",
       "    </tr>\n",
       "    <tr>\n",
       "      <th>1</th>\n",
       "      <td>2</td>\n",
       "      <td>15647311</td>\n",
       "      <td>Hill</td>\n",
       "      <td>608</td>\n",
       "      <td>Spain</td>\n",
       "      <td>Female</td>\n",
       "      <td>41</td>\n",
       "      <td>1.000</td>\n",
       "      <td>83,807.859</td>\n",
       "      <td>1</td>\n",
       "      <td>0</td>\n",
       "      <td>1</td>\n",
       "      <td>112,542.578</td>\n",
       "      <td>0</td>\n",
       "      <td>1</td>\n",
       "      <td>0</td>\n",
       "      <td>0</td>\n",
       "      <td>0</td>\n",
       "      <td>1</td>\n",
       "    </tr>\n",
       "    <tr>\n",
       "      <th>2</th>\n",
       "      <td>3</td>\n",
       "      <td>15619304</td>\n",
       "      <td>Onio</td>\n",
       "      <td>502</td>\n",
       "      <td>France</td>\n",
       "      <td>Female</td>\n",
       "      <td>42</td>\n",
       "      <td>8.000</td>\n",
       "      <td>159,660.797</td>\n",
       "      <td>3</td>\n",
       "      <td>1</td>\n",
       "      <td>0</td>\n",
       "      <td>113,931.570</td>\n",
       "      <td>1</td>\n",
       "      <td>1</td>\n",
       "      <td>0</td>\n",
       "      <td>1</td>\n",
       "      <td>0</td>\n",
       "      <td>0</td>\n",
       "    </tr>\n",
       "    <tr>\n",
       "      <th>3</th>\n",
       "      <td>4</td>\n",
       "      <td>15701354</td>\n",
       "      <td>Boni</td>\n",
       "      <td>699</td>\n",
       "      <td>France</td>\n",
       "      <td>Female</td>\n",
       "      <td>39</td>\n",
       "      <td>1.000</td>\n",
       "      <td>0.000</td>\n",
       "      <td>2</td>\n",
       "      <td>0</td>\n",
       "      <td>0</td>\n",
       "      <td>93,826.633</td>\n",
       "      <td>0</td>\n",
       "      <td>1</td>\n",
       "      <td>0</td>\n",
       "      <td>1</td>\n",
       "      <td>0</td>\n",
       "      <td>0</td>\n",
       "    </tr>\n",
       "    <tr>\n",
       "      <th>4</th>\n",
       "      <td>5</td>\n",
       "      <td>15737888</td>\n",
       "      <td>Mitchell</td>\n",
       "      <td>850</td>\n",
       "      <td>Spain</td>\n",
       "      <td>Female</td>\n",
       "      <td>43</td>\n",
       "      <td>2.000</td>\n",
       "      <td>125,510.820</td>\n",
       "      <td>1</td>\n",
       "      <td>1</td>\n",
       "      <td>1</td>\n",
       "      <td>79,084.102</td>\n",
       "      <td>0</td>\n",
       "      <td>1</td>\n",
       "      <td>0</td>\n",
       "      <td>0</td>\n",
       "      <td>0</td>\n",
       "      <td>1</td>\n",
       "    </tr>\n",
       "    <tr>\n",
       "      <th>...</th>\n",
       "      <td>...</td>\n",
       "      <td>...</td>\n",
       "      <td>...</td>\n",
       "      <td>...</td>\n",
       "      <td>...</td>\n",
       "      <td>...</td>\n",
       "      <td>...</td>\n",
       "      <td>...</td>\n",
       "      <td>...</td>\n",
       "      <td>...</td>\n",
       "      <td>...</td>\n",
       "      <td>...</td>\n",
       "      <td>...</td>\n",
       "      <td>...</td>\n",
       "      <td>...</td>\n",
       "      <td>...</td>\n",
       "      <td>...</td>\n",
       "      <td>...</td>\n",
       "      <td>...</td>\n",
       "    </tr>\n",
       "    <tr>\n",
       "      <th>9995</th>\n",
       "      <td>9996</td>\n",
       "      <td>15606229</td>\n",
       "      <td>Obijiaku</td>\n",
       "      <td>771</td>\n",
       "      <td>France</td>\n",
       "      <td>Male</td>\n",
       "      <td>39</td>\n",
       "      <td>5.000</td>\n",
       "      <td>0.000</td>\n",
       "      <td>2</td>\n",
       "      <td>1</td>\n",
       "      <td>0</td>\n",
       "      <td>96,270.641</td>\n",
       "      <td>0</td>\n",
       "      <td>0</td>\n",
       "      <td>1</td>\n",
       "      <td>1</td>\n",
       "      <td>0</td>\n",
       "      <td>0</td>\n",
       "    </tr>\n",
       "    <tr>\n",
       "      <th>9996</th>\n",
       "      <td>9997</td>\n",
       "      <td>15569892</td>\n",
       "      <td>Johnstone</td>\n",
       "      <td>516</td>\n",
       "      <td>France</td>\n",
       "      <td>Male</td>\n",
       "      <td>35</td>\n",
       "      <td>10.000</td>\n",
       "      <td>57,369.609</td>\n",
       "      <td>1</td>\n",
       "      <td>1</td>\n",
       "      <td>1</td>\n",
       "      <td>101,699.773</td>\n",
       "      <td>0</td>\n",
       "      <td>0</td>\n",
       "      <td>1</td>\n",
       "      <td>1</td>\n",
       "      <td>0</td>\n",
       "      <td>0</td>\n",
       "    </tr>\n",
       "    <tr>\n",
       "      <th>9997</th>\n",
       "      <td>9998</td>\n",
       "      <td>15584532</td>\n",
       "      <td>Liu</td>\n",
       "      <td>709</td>\n",
       "      <td>France</td>\n",
       "      <td>Female</td>\n",
       "      <td>36</td>\n",
       "      <td>7.000</td>\n",
       "      <td>0.000</td>\n",
       "      <td>1</td>\n",
       "      <td>0</td>\n",
       "      <td>1</td>\n",
       "      <td>42,085.578</td>\n",
       "      <td>1</td>\n",
       "      <td>1</td>\n",
       "      <td>0</td>\n",
       "      <td>1</td>\n",
       "      <td>0</td>\n",
       "      <td>0</td>\n",
       "    </tr>\n",
       "    <tr>\n",
       "      <th>9998</th>\n",
       "      <td>9999</td>\n",
       "      <td>15682355</td>\n",
       "      <td>Sabbatini</td>\n",
       "      <td>772</td>\n",
       "      <td>Germany</td>\n",
       "      <td>Male</td>\n",
       "      <td>42</td>\n",
       "      <td>3.000</td>\n",
       "      <td>75,075.312</td>\n",
       "      <td>2</td>\n",
       "      <td>1</td>\n",
       "      <td>0</td>\n",
       "      <td>92,888.523</td>\n",
       "      <td>1</td>\n",
       "      <td>0</td>\n",
       "      <td>1</td>\n",
       "      <td>0</td>\n",
       "      <td>1</td>\n",
       "      <td>0</td>\n",
       "    </tr>\n",
       "    <tr>\n",
       "      <th>9999</th>\n",
       "      <td>10000</td>\n",
       "      <td>15628319</td>\n",
       "      <td>Walker</td>\n",
       "      <td>792</td>\n",
       "      <td>France</td>\n",
       "      <td>Female</td>\n",
       "      <td>28</td>\n",
       "      <td>0.000</td>\n",
       "      <td>130,142.789</td>\n",
       "      <td>1</td>\n",
       "      <td>1</td>\n",
       "      <td>0</td>\n",
       "      <td>38,190.781</td>\n",
       "      <td>0</td>\n",
       "      <td>1</td>\n",
       "      <td>0</td>\n",
       "      <td>1</td>\n",
       "      <td>0</td>\n",
       "      <td>0</td>\n",
       "    </tr>\n",
       "  </tbody>\n",
       "</table>\n",
       "<p>10000 rows × 19 columns</p>\n",
       "</div>"
      ],
      "text/plain": [
       "      rownumber  customerid    surname  creditscore geography  gender  age  \\\n",
       "0             1    15634602   Hargrave          619    France  Female   42   \n",
       "1             2    15647311       Hill          608     Spain  Female   41   \n",
       "2             3    15619304       Onio          502    France  Female   42   \n",
       "3             4    15701354       Boni          699    France  Female   39   \n",
       "4             5    15737888   Mitchell          850     Spain  Female   43   \n",
       "...         ...         ...        ...          ...       ...     ...  ...   \n",
       "9995       9996    15606229   Obijiaku          771    France    Male   39   \n",
       "9996       9997    15569892  Johnstone          516    France    Male   35   \n",
       "9997       9998    15584532        Liu          709    France  Female   36   \n",
       "9998       9999    15682355  Sabbatini          772   Germany    Male   42   \n",
       "9999      10000    15628319     Walker          792    France  Female   28   \n",
       "\n",
       "      tenure     balance  numofproducts  hascrcard  isactivemember  \\\n",
       "0      2.000       0.000              1          1               1   \n",
       "1      1.000  83,807.859              1          0               1   \n",
       "2      8.000 159,660.797              3          1               0   \n",
       "3      1.000       0.000              2          0               0   \n",
       "4      2.000 125,510.820              1          1               1   \n",
       "...      ...         ...            ...        ...             ...   \n",
       "9995   5.000       0.000              2          1               0   \n",
       "9996  10.000  57,369.609              1          1               1   \n",
       "9997   7.000       0.000              1          0               1   \n",
       "9998   3.000  75,075.312              2          1               0   \n",
       "9999   0.000 130,142.789              1          1               0   \n",
       "\n",
       "      estimatedsalary  exited  g_Female  g_Male  geo_France  geo_Germany  \\\n",
       "0         101,348.883       1         1       0           1            0   \n",
       "1         112,542.578       0         1       0           0            0   \n",
       "2         113,931.570       1         1       0           1            0   \n",
       "3          93,826.633       0         1       0           1            0   \n",
       "4          79,084.102       0         1       0           0            0   \n",
       "...               ...     ...       ...     ...         ...          ...   \n",
       "9995       96,270.641       0         0       1           1            0   \n",
       "9996      101,699.773       0         0       1           1            0   \n",
       "9997       42,085.578       1         1       0           1            0   \n",
       "9998       92,888.523       1         0       1           0            1   \n",
       "9999       38,190.781       0         1       0           1            0   \n",
       "\n",
       "      geo_Spain  \n",
       "0             0  \n",
       "1             1  \n",
       "2             0  \n",
       "3             0  \n",
       "4             1  \n",
       "...         ...  \n",
       "9995          0  \n",
       "9996          0  \n",
       "9997          0  \n",
       "9998          0  \n",
       "9999          0  \n",
       "\n",
       "[10000 rows x 19 columns]"
      ]
     },
     "execution_count": 22,
     "metadata": {},
     "output_type": "execute_result"
    }
   ],
   "source": [
    "df = df.join(pd.get_dummies(df.gender, prefix='g'))\n",
    "df = df.join(pd.get_dummies(df.geography, prefix='geo'))\n",
    "df"
   ]
  },
  {
   "cell_type": "markdown",
   "metadata": {},
   "source": [
    "Проведем разбиение данных на обучающую, валидационную и тестовую."
   ]
  },
  {
   "cell_type": "code",
   "execution_count": 25,
   "metadata": {},
   "outputs": [],
   "source": [
    "features = df.drop(['rownumber', 'customerid', 'surname', 'geography','gender','exited'],axis=1)\n",
    "target = df['exited']"
   ]
  },
  {
   "cell_type": "code",
   "execution_count": 97,
   "metadata": {},
   "outputs": [
    {
     "name": "stdout",
     "output_type": "stream",
     "text": [
      "Размер обучающей выборки: (6000, 13)\n",
      "Размер валидационной выборки: (2000, 13)\n",
      "Размер тестовой выборки: (2000, 13)\n"
     ]
    }
   ],
   "source": [
    "features_train, features_valid, target_train, target_valid = train_test_split(features, target, test_size=.4,\\\n",
    "                                                                              random_state=12345, stratify=target)\n",
    "features_valid, features_test, target_valid, target_test = train_test_split(features_valid, target_valid, test_size=0.5,\\\n",
    "                                                                              random_state=12345, stratify=target_valid)\n",
    "print(f'Размер обучающей выборки: {features_train.shape}')\n",
    "print(f'Размер валидационной выборки: {features_valid.shape}')\n",
    "print(f'Размер тестовой выборки: {features_test.shape}')"
   ]
  },
  {
   "cell_type": "markdown",
   "metadata": {},
   "source": [
    "Используем StadardScaler чтобы привести данные к единообразному удобоваримому виду, сделаем масштабирование. "
   ]
  },
  {
   "cell_type": "code",
   "execution_count": 51,
   "metadata": {},
   "outputs": [],
   "source": [
    "scaler = StandardScaler()  \n",
    "scaler.fit(features_train)\n",
    "features_train = scaler.transform(features_train)\n",
    "features_valid = scaler.transform(features_valid) \n",
    "features_test = scaler.transform(features_test)"
   ]
  },
  {
   "cell_type": "markdown",
   "metadata": {},
   "source": [
    "## Исследование задачи"
   ]
  },
  {
   "cell_type": "markdown",
   "metadata": {},
   "source": [
    "Исследуем баланс классов"
   ]
  },
  {
   "cell_type": "code",
   "execution_count": 23,
   "metadata": {},
   "outputs": [
    {
     "data": {
      "text/plain": [
       "0   0.796\n",
       "1   0.204\n",
       "Name: exited, dtype: float64"
      ]
     },
     "execution_count": 23,
     "metadata": {},
     "output_type": "execute_result"
    }
   ],
   "source": [
    "df['exited'].value_counts(normalize=True)"
   ]
  },
  {
   "cell_type": "markdown",
   "metadata": {},
   "source": [
    "Факт ухода клиента был зафиксирован в 20% случаев. Баланс классов составляет 1:4."
   ]
  },
  {
   "cell_type": "markdown",
   "metadata": {},
   "source": [
    "Рассмотрим четыре модели для обучения и сравнения предсказаний:\n",
    "- Логистическая регрессия\n",
    "- Случайный лес\n",
    "- Древо решений\n",
    "- XGB"
   ]
  },
  {
   "cell_type": "code",
   "execution_count": 110,
   "metadata": {},
   "outputs": [
    {
     "name": "stdout",
     "output_type": "stream",
     "text": [
      "f1 score: 0.06181015452538632\n",
      "ROC-AUC: 0.699597866784905\n"
     ]
    }
   ],
   "source": [
    "model = LogisticRegression(random_state=12345)\n",
    "model.fit(features_train,target_train) \n",
    "probabilities_one_valid = model.predict_proba(features_valid)[:, 1]\n",
    "print(\"f1 score:\", f1_score(target_valid,model.predict(features_valid)))\n",
    "print(\"ROC-AUC:\", roc_auc_score(target_valid, probabilities_one_valid))"
   ]
  },
  {
   "cell_type": "code",
   "execution_count": 111,
   "metadata": {},
   "outputs": [
    {
     "name": "stdout",
     "output_type": "stream",
     "text": [
      "f1 score: 0.5126436781609195\n",
      "ROC-AUC: 0.6982214996551384\n"
     ]
    }
   ],
   "source": [
    "model = DecisionTreeClassifier(random_state=12345)\n",
    "model.fit(features_train,target_train) \n",
    "probabilities_one_valid = model.predict_proba(features_valid)[:, 1]\n",
    "print(\"f1 score:\", f1_score(target_valid,model.predict(features_valid)))\n",
    "print(\"ROC-AUC:\", roc_auc_score(target_valid, probabilities_one_valid))"
   ]
  },
  {
   "cell_type": "code",
   "execution_count": 112,
   "metadata": {},
   "outputs": [
    {
     "name": "stdout",
     "output_type": "stream",
     "text": [
      "f1 score: 0.591044776119403\n",
      "ROC-AUC: 0.8582426532170658\n"
     ]
    }
   ],
   "source": [
    "model = RandomForestClassifier(random_state=12345)\n",
    "model.fit(features_train,target_train) \n",
    "probabilities_one_valid = model.predict_proba(features_valid)[:, 1]\n",
    "print(\"f1 score:\", f1_score(target_valid,model.predict(features_valid)))\n",
    "print(\"ROC-AUC:\", roc_auc_score(target_valid, probabilities_one_valid))"
   ]
  },
  {
   "cell_type": "code",
   "execution_count": 113,
   "metadata": {},
   "outputs": [
    {
     "name": "stdout",
     "output_type": "stream",
     "text": [
      "f1 score: 0.6145251396648044\n",
      "ROC-AUC: 0.8581002438663907\n"
     ]
    }
   ],
   "source": [
    "model = xgb.XGBClassifier(random_state=12345,eval_metric='logloss',use_label_encoder=False)\n",
    "model.fit(features_train,target_train)\n",
    "probabilities_one_valid = model.predict_proba(features_valid)[:, 1]\n",
    "print(\"f1 score:\", f1_score(target_valid,model.predict(features_valid)))\n",
    "print(\"ROC-AUC:\", roc_auc_score(target_valid, probabilities_one_valid))"
   ]
  },
  {
   "cell_type": "markdown",
   "metadata": {},
   "source": [
    "В целом, данные не сбалансированы по целевому признаку и имеют распределение 1 к 4. Лучшие показатели метрики у XGB, f1 score составил 0.61, ROC-AUC - 0.85, худшие у логистической регрессии. Модели были построены без учета дисбаланса классов, а это значит, что можно попробовать улучшить результаты."
   ]
  },
  {
   "cell_type": "markdown",
   "metadata": {},
   "source": [
    "## Борьба с дисбалансом"
   ]
  },
  {
   "cell_type": "markdown",
   "metadata": {},
   "source": [
    "Исправление дисбаланса может быть проведено 4 способами:\n",
    "- взвешивание классов\n",
    "- увеличение выборки\n",
    "- уменьшение выборки\n",
    "- изменение порога классификации"
   ]
  },
  {
   "cell_type": "markdown",
   "metadata": {},
   "source": [
    "### Взвешивание классов"
   ]
  },
  {
   "cell_type": "markdown",
   "metadata": {},
   "source": [
    "Построим модели с гиперпараметрами определяющим балансировку классов, выведем f1-метрику и AUC-ROC"
   ]
  },
  {
   "cell_type": "code",
   "execution_count": 114,
   "metadata": {},
   "outputs": [
    {
     "name": "stdout",
     "output_type": "stream",
     "text": [
      "f1 score: 0.4678076609616952\n",
      "ROC-AUC: 0.738109973889053\n"
     ]
    }
   ],
   "source": [
    "model = LogisticRegression(random_state=12345,class_weight='balanced')\n",
    "model.fit(features_train,target_train) \n",
    "probabilities_one_valid = model.predict_proba(features_valid)[:, 1]\n",
    "print(\"f1 score:\", f1_score(target_valid,model.predict(features_valid)))\n",
    "print(\"ROC-AUC:\", roc_auc_score(target_valid, probabilities_one_valid))"
   ]
  },
  {
   "cell_type": "code",
   "execution_count": 116,
   "metadata": {},
   "outputs": [
    {
     "name": "stdout",
     "output_type": "stream",
     "text": [
      "f1 score: 0.5018181818181818\n",
      "ROC-AUC: 0.6877216967188885\n"
     ]
    }
   ],
   "source": [
    "model = DecisionTreeClassifier(random_state=12345,class_weight='balanced')\n",
    "model.fit(features_train,target_train) \n",
    "probabilities_one_valid = model.predict_proba(features_valid)[:, 1]\n",
    "print(\"f1 score:\", f1_score(target_valid,model.predict(features_valid)))\n",
    "print(\"ROC-AUC:\", roc_auc_score(target_valid, probabilities_one_valid))"
   ]
  },
  {
   "cell_type": "code",
   "execution_count": 117,
   "metadata": {},
   "outputs": [
    {
     "name": "stdout",
     "output_type": "stream",
     "text": [
      "f1 score: 0.5761689291101055\n",
      "ROC-AUC: 0.8604303687555425\n"
     ]
    }
   ],
   "source": [
    "model = RandomForestClassifier(random_state=12345,class_weight='balanced')\n",
    "model.fit(features_train,target_train) \n",
    "probabilities_one_valid = model.predict_proba(features_valid)[:, 1]\n",
    "print(\"f1 score:\", f1_score(target_valid,model.predict(features_valid)))\n",
    "print(\"ROC-AUC:\", roc_auc_score(target_valid, probabilities_one_valid))"
   ]
  },
  {
   "cell_type": "code",
   "execution_count": 115,
   "metadata": {},
   "outputs": [
    {
     "name": "stdout",
     "output_type": "stream",
     "text": [
      "[19:00:32] WARNING: D:\\bld\\xgboost-split_1631904903843\\work\\src\\learner.cc:573: \n",
      "Parameters: { \"class_weight\" } might not be used.\n",
      "\n",
      "  This may not be accurate due to some parameters are only used in language bindings but\n",
      "  passed down to XGBoost core.  Or some parameters are not used but slip through this\n",
      "  verification. Please open an issue if you find above cases.\n",
      "\n",
      "\n",
      "f1 score: 0.6145251396648044\n",
      "ROC-AUC: 0.8581002438663907\n"
     ]
    }
   ],
   "source": [
    "model = xgb.XGBClassifier(random_state=12345,eval_metric='logloss',use_label_encoder=False,class_weight='balanced')\n",
    "model.fit(features_train,target_train) \n",
    "probabilities_one_valid = model.predict_proba(features_valid)[:, 1]\n",
    "print(\"f1 score:\", f1_score(target_valid,model.predict(features_valid)))\n",
    "print(\"ROC-AUC:\", roc_auc_score(target_valid, probabilities_one_valid))"
   ]
  },
  {
   "cell_type": "markdown",
   "metadata": {},
   "source": [
    "Использование балансировки классов не привело к значительному улучшению результатов. Только у логистической регресси результаты были улучшены, у случайного леса и дерева решений они почти не изменились, а на XGB это вообще никак не повлияло, т.к уже присутствует встроенная балансировка. Отсюда следует вывод, что балансировка может улучшиить показатели качества более простых моделей, для моделей представляющих более сложное решение, она менее эффективна."
   ]
  },
  {
   "cell_type": "markdown",
   "metadata": {},
   "source": [
    "### Увеличение выборки"
   ]
  },
  {
   "cell_type": "markdown",
   "metadata": {},
   "source": [
    "Используем метод увеличения выборки. Для этого проведем разбиение и сделаем новую обучающую выборку. "
   ]
  },
  {
   "cell_type": "code",
   "execution_count": 235,
   "metadata": {},
   "outputs": [],
   "source": [
    "features_train, features_valid, target_train, target_valid = train_test_split(features, target, test_size=.4,\\\n",
    "                                                                              random_state=12345, stratify=target)\n",
    "features_valid, features_test, target_valid, target_test = train_test_split(features_valid, target_valid, test_size=0.5,\\\n",
    "                                                                              random_state=12345, stratify=target_valid)\n",
    "features_upsampled, target_upsampled = upsample(features_train, target_train, 10)"
   ]
  },
  {
   "cell_type": "code",
   "execution_count": 132,
   "metadata": {},
   "outputs": [
    {
     "name": "stdout",
     "output_type": "stream",
     "text": [
      "f1 score: 0.4678076609616952\n",
      "ROC-AUC: 0.738109973889053\n"
     ]
    }
   ],
   "source": [
    "model = LogisticRegression(random_state=12345,class_weight='balanced')\n",
    "model.fit(features_upsampled, target_upsampled) \n",
    "probabilities_one_valid = model.predict_proba(features_valid)[:, 1]\n",
    "print(\"f1 score:\", f1_score(target_valid,model.predict(features_valid)))\n",
    "print(\"ROC-AUC:\", roc_auc_score(target_valid, probabilities_one_valid))"
   ]
  },
  {
   "cell_type": "code",
   "execution_count": 119,
   "metadata": {},
   "outputs": [
    {
     "name": "stdout",
     "output_type": "stream",
     "text": [
      "f1 score: 0.5069356872635562\n",
      "ROC-AUC: 0.6885345846881467\n"
     ]
    }
   ],
   "source": [
    "model = DecisionTreeClassifier(random_state=12345)\n",
    "model.fit(features_upsampled, target_upsampled) \n",
    "probabilities_one_valid = model.predict_proba(features_valid)[:, 1]\n",
    "print(\"f1 score:\", f1_score(target_valid,model.predict(features_valid)))\n",
    "print(\"ROC-AUC:\", roc_auc_score(target_valid, probabilities_one_valid))"
   ]
  },
  {
   "cell_type": "code",
   "execution_count": 120,
   "metadata": {},
   "outputs": [
    {
     "name": "stdout",
     "output_type": "stream",
     "text": [
      "f1 score: 0.6133682830930538\n",
      "ROC-AUC: 0.8589947285446842\n"
     ]
    }
   ],
   "source": [
    "model = RandomForestClassifier(random_state=12345)\n",
    "model.fit(features_upsampled, target_upsampled) \n",
    "probabilities_one_valid = model.predict_proba(features_valid)[:, 1]\n",
    "print(\"f1 score:\", f1_score(target_valid,model.predict(features_valid)))\n",
    "print(\"ROC-AUC:\", roc_auc_score(target_valid, probabilities_one_valid))"
   ]
  },
  {
   "cell_type": "code",
   "execution_count": 121,
   "metadata": {},
   "outputs": [
    {
     "name": "stdout",
     "output_type": "stream",
     "text": [
      "f1 score: 0.5977933801404213\n",
      "ROC-AUC: 0.8564529140802049\n"
     ]
    }
   ],
   "source": [
    "model = xgb.XGBClassifier(random_state=12345,eval_metric='logloss',use_label_encoder=False)\n",
    "model.fit(features_upsampled, target_upsampled)  \n",
    "probabilities_one_valid = model.predict_proba(features_valid)[:, 1]\n",
    "print(\"f1 score:\", f1_score(target_valid,model.predict(features_valid)))\n",
    "print(\"ROC-AUC:\", roc_auc_score(target_valid, probabilities_one_valid))"
   ]
  },
  {
   "cell_type": "markdown",
   "metadata": {},
   "source": [
    "На дерево решений, xgb и логистическую увеличение выборки повлияло не значительно, а вот метрика случайного леса повысилась."
   ]
  },
  {
   "cell_type": "markdown",
   "metadata": {},
   "source": [
    "### Уменьшение выборки"
   ]
  },
  {
   "cell_type": "markdown",
   "metadata": {},
   "source": [
    "Проведем уменьшение выборки и посмотрим влияние на модели по изменениям метрики."
   ]
  },
  {
   "cell_type": "code",
   "execution_count": 124,
   "metadata": {},
   "outputs": [],
   "source": [
    "features_downsampled, target_downsampled = downsample(features_train, target_train, 0.2)"
   ]
  },
  {
   "cell_type": "code",
   "execution_count": 125,
   "metadata": {},
   "outputs": [
    {
     "name": "stdout",
     "output_type": "stream",
     "text": [
      "f1 score: 0.37046802900461434\n",
      "ROC-AUC: 0.5971909178244162\n"
     ]
    }
   ],
   "source": [
    "model = LogisticRegression(random_state=12345,class_weight='balanced')\n",
    "model.fit(features_downsampled, target_downsampled) \n",
    "probabilities_one_valid = model.predict_proba(features_valid)[:, 1]\n",
    "print(\"f1 score:\", f1_score(target_valid,model.predict(features_valid)))\n",
    "print(\"ROC-AUC:\", roc_auc_score(target_valid, probabilities_one_valid))"
   ]
  },
  {
   "cell_type": "code",
   "execution_count": 127,
   "metadata": {},
   "outputs": [
    {
     "name": "stdout",
     "output_type": "stream",
     "text": [
      "f1 score: 0.5069356872635562\n",
      "ROC-AUC: 0.6885345846881467\n"
     ]
    }
   ],
   "source": [
    "model = DecisionTreeClassifier(random_state=12345)\n",
    "model.fit(features_upsampled, target_upsampled) \n",
    "probabilities_one_valid = model.predict_proba(features_valid)[:, 1]\n",
    "print(\"f1 score:\", f1_score(target_valid,model.predict(features_valid)))\n",
    "print(\"ROC-AUC:\", roc_auc_score(target_valid, probabilities_one_valid))"
   ]
  },
  {
   "cell_type": "code",
   "execution_count": 128,
   "metadata": {},
   "outputs": [
    {
     "name": "stdout",
     "output_type": "stream",
     "text": [
      "f1 score: 0.6133682830930538\n",
      "ROC-AUC: 0.8589947285446842\n"
     ]
    }
   ],
   "source": [
    "model = RandomForestClassifier(random_state=12345)\n",
    "model.fit(features_upsampled, target_upsampled) \n",
    "probabilities_one_valid = model.predict_proba(features_valid)[:, 1]\n",
    "print(\"f1 score:\", f1_score(target_valid,model.predict(features_valid)))\n",
    "print(\"ROC-AUC:\", roc_auc_score(target_valid, probabilities_one_valid))"
   ]
  },
  {
   "cell_type": "code",
   "execution_count": 129,
   "metadata": {},
   "outputs": [
    {
     "name": "stdout",
     "output_type": "stream",
     "text": [
      "f1 score: 0.5977933801404213\n",
      "ROC-AUC: 0.8564529140802049\n"
     ]
    }
   ],
   "source": [
    "model = xgb.XGBClassifier(random_state=12345,eval_metric='logloss',use_label_encoder=False)\n",
    "model.fit(features_upsampled, target_upsampled)  \n",
    "probabilities_one_valid = model.predict_proba(features_valid)[:, 1]\n",
    "print(\"f1 score:\", f1_score(target_valid,model.predict(features_valid)))\n",
    "print(\"ROC-AUC:\", roc_auc_score(target_valid, probabilities_one_valid))"
   ]
  },
  {
   "cell_type": "markdown",
   "metadata": {},
   "source": [
    "Проведенные изменения также повлияли не значительно. В лидерах опять случайный лес, а влияние на метрики логистической регрессии дало обратный эффект."
   ]
  },
  {
   "cell_type": "markdown",
   "metadata": {},
   "source": [
    "В целом случайный лес и xgb показывают одинаково высокие параметры. Выберем случайный лес и попробуем оптимизировать гиперпараметры."
   ]
  },
  {
   "cell_type": "code",
   "execution_count": 241,
   "metadata": {},
   "outputs": [
    {
     "name": "stdout",
     "output_type": "stream",
     "text": [
      "Fitting 5 folds for each of 300 candidates, totalling 1500 fits\n"
     ]
    },
    {
     "data": {
      "text/plain": [
       "{'n_estimators': 212,\n",
       " 'min_samples_split': 5,\n",
       " 'min_samples_leaf': 2,\n",
       " 'max_features': 'log2',\n",
       " 'max_depth': 17,\n",
       " 'class_weight': 'balanced'}"
      ]
     },
     "execution_count": 241,
     "metadata": {},
     "output_type": "execute_result"
    }
   ],
   "source": [
    "features_upsampled, target_upsampled = upsample(features_train, target_train, 10)\n",
    "n_estimators = [int(x) for x in np.linspace(start = 50, stop = 300, num = 21)]\n",
    "max_features = ['log2', 'sqrt']\n",
    "max_depth = [int(x) for x in np.linspace(start = 2, stop = 25, num = 20)]\n",
    "min_samples_split = [int(x) for x in np.linspace(start = 2, stop = 30, num = 19)]\n",
    "min_samples_leaf = [int(x) for x in np.linspace(start = 2, stop = 30, num = 19)]\n",
    "class_weight = ['balanced']\n",
    "mod = RandomForestClassifier(random_state=12345)\n",
    "param_dist = {'n_estimators': n_estimators,\n",
    "               'max_features': max_features,\n",
    "               'max_depth': max_depth,\n",
    "               'min_samples_split': min_samples_split,\n",
    "               'min_samples_leaf': min_samples_leaf,\n",
    "               'class_weight': class_weight}\n",
    "rs = RandomizedSearchCV(mod, \n",
    "                        param_dist, \n",
    "                        n_iter = 300, \n",
    "                        cv = 5, \n",
    "                        verbose = 1, \n",
    "                        n_jobs=-1, \n",
    "                        random_state=12345)\n",
    "rs.fit(features_upsampled, target_upsampled)\n",
    "rs.best_params_"
   ]
  },
  {
   "cell_type": "code",
   "execution_count": 242,
   "metadata": {},
   "outputs": [
    {
     "data": {
      "text/html": [
       "<div>\n",
       "<style scoped>\n",
       "    .dataframe tbody tr th:only-of-type {\n",
       "        vertical-align: middle;\n",
       "    }\n",
       "\n",
       "    .dataframe tbody tr th {\n",
       "        vertical-align: top;\n",
       "    }\n",
       "\n",
       "    .dataframe thead th {\n",
       "        text-align: right;\n",
       "    }\n",
       "</style>\n",
       "<table border=\"1\" class=\"dataframe\">\n",
       "  <thead>\n",
       "    <tr style=\"text-align: right;\">\n",
       "      <th></th>\n",
       "      <th>param_n_estimators</th>\n",
       "      <th>param_min_samples_split</th>\n",
       "      <th>param_min_samples_leaf</th>\n",
       "      <th>param_max_features</th>\n",
       "      <th>param_max_depth</th>\n",
       "      <th>param_class_weight</th>\n",
       "      <th>split3_test_score</th>\n",
       "      <th>split4_test_score</th>\n",
       "      <th>mean_test_score</th>\n",
       "      <th>rank_test_score</th>\n",
       "    </tr>\n",
       "  </thead>\n",
       "  <tbody>\n",
       "    <tr>\n",
       "      <th>0</th>\n",
       "      <td>212</td>\n",
       "      <td>5</td>\n",
       "      <td>2</td>\n",
       "      <td>log2</td>\n",
       "      <td>17</td>\n",
       "      <td>balanced</td>\n",
       "      <td>0.966</td>\n",
       "      <td>0.960</td>\n",
       "      <td>0.966</td>\n",
       "      <td>1</td>\n",
       "    </tr>\n",
       "    <tr>\n",
       "      <th>1</th>\n",
       "      <td>175</td>\n",
       "      <td>2</td>\n",
       "      <td>2</td>\n",
       "      <td>sqrt</td>\n",
       "      <td>18</td>\n",
       "      <td>balanced</td>\n",
       "      <td>0.964</td>\n",
       "      <td>0.961</td>\n",
       "      <td>0.966</td>\n",
       "      <td>2</td>\n",
       "    </tr>\n",
       "  </tbody>\n",
       "</table>\n",
       "</div>"
      ],
      "text/plain": [
       "  param_n_estimators param_min_samples_split param_min_samples_leaf  \\\n",
       "0                212                       5                      2   \n",
       "1                175                       2                      2   \n",
       "\n",
       "  param_max_features param_max_depth param_class_weight  split3_test_score  \\\n",
       "0               log2              17           balanced              0.966   \n",
       "1               sqrt              18           balanced              0.964   \n",
       "\n",
       "   split4_test_score  mean_test_score  rank_test_score  \n",
       "0              0.960            0.966                1  \n",
       "1              0.961            0.966                2  "
      ]
     },
     "execution_count": 242,
     "metadata": {},
     "output_type": "execute_result"
    }
   ],
   "source": [
    "rs_df = pd.DataFrame(rs.cv_results_).sort_values('rank_test_score').reset_index(drop=True)\n",
    "rs_df = rs_df.drop([\n",
    "            'mean_fit_time', \n",
    "            'std_fit_time', \n",
    "            'mean_score_time',\n",
    "            'std_score_time', \n",
    "            'params', \n",
    "            'split0_test_score', \n",
    "            'split1_test_score', \n",
    "            'split2_test_score', \n",
    "            'std_test_score'],\n",
    "            axis=1)\n",
    "rs_df.head(2)"
   ]
  },
  {
   "cell_type": "code",
   "execution_count": 243,
   "metadata": {},
   "outputs": [
    {
     "data": {
      "text/plain": [
       "count   300.000\n",
       "mean      0.838\n",
       "std       0.053\n",
       "min       0.742\n",
       "25%       0.811\n",
       "50%       0.834\n",
       "75%       0.867\n",
       "max       0.966\n",
       "Name: mean_test_score, dtype: float64"
      ]
     },
     "execution_count": 243,
     "metadata": {},
     "output_type": "execute_result"
    }
   ],
   "source": [
    "rs_df.mean_test_score.describe()"
   ]
  },
  {
   "cell_type": "markdown",
   "metadata": {},
   "source": [
    "Посмотрим на параметры модели влияющие на качество"
   ]
  },
  {
   "cell_type": "markdown",
   "metadata": {},
   "source": [
    "Изучив параметры выше, а также параметров выданных поиском можно сделать вывод, что одним из лучших параметров для модели случайный лес будет:\n",
    "\n",
    "    'n_estimators': 125,175,212\n",
    "    'min_samples_split': 3,5\n",
    "    'min_samples_leaf': 2,4\n",
    "    'max_features': 'sqrt','log2\n",
    "    'max_depth': 17"
   ]
  },
  {
   "cell_type": "code",
   "execution_count": 248,
   "metadata": {},
   "outputs": [
    {
     "name": "stdout",
     "output_type": "stream",
     "text": [
      "f1 score: 0.6347305389221557\n",
      "ROC-AUC: 0.8632223618090453\n"
     ]
    }
   ],
   "source": [
    "model = RandomForestClassifier(random_state=12345, n_estimators=212,min_samples_split=5,\\\n",
    "                    min_samples_leaf=2, max_features='log2', max_depth=17,class_weight='balanced')\n",
    "model.fit(features_upsampled, target_upsampled) \n",
    "probabilities_one_valid = model.predict_proba(features_valid)[:, 1]\n",
    "print(\"f1 score:\", f1_score(target_valid,model.predict(features_valid)))\n",
    "print(\"ROC-AUC:\", roc_auc_score(target_valid, probabilities_one_valid))"
   ]
  },
  {
   "cell_type": "markdown",
   "metadata": {},
   "source": [
    "В результате исправления дисбаланса классов мы определили, что наши данные лучше всего классифицируются моделью RandomForestClassifier с балансировкой классов на данных, обработанных с помощью upsampling и гиперпараметрами найденными RandomizedSearchCV. Итоговое начение f1-score составляет 0.634, ROC-AUC - 0.863."
   ]
  },
  {
   "cell_type": "markdown",
   "metadata": {},
   "source": [
    "## Тестирование модели"
   ]
  },
  {
   "cell_type": "markdown",
   "metadata": {},
   "source": [
    "Объединим обучающую и валидационную выборку и обучим модель на объединённой выборке."
   ]
  },
  {
   "cell_type": "code",
   "execution_count": 249,
   "metadata": {},
   "outputs": [
    {
     "name": "stdout",
     "output_type": "stream",
     "text": [
      "Размер обьединенной выборки: (8000, 13)\n"
     ]
    }
   ],
   "source": [
    "features_train = features_train.append(features_valid)\n",
    "target_train = target_train.append(target_valid)\n",
    "print('Размер обьединенной выборки:', features_train.shape)"
   ]
  },
  {
   "cell_type": "code",
   "execution_count": 250,
   "metadata": {},
   "outputs": [],
   "source": [
    "features_upsampled, target_upsampled = upsample(features_train, target_train, 10)"
   ]
  },
  {
   "cell_type": "code",
   "execution_count": 251,
   "metadata": {},
   "outputs": [
    {
     "name": "stdout",
     "output_type": "stream",
     "text": [
      "f1 score: 0.5997521685254027\n",
      "ROC-AUC: 0.8501814603509519\n"
     ]
    }
   ],
   "source": [
    "model = RandomForestClassifier(random_state=12345, n_estimators=175,min_samples_split=2,\\\n",
    "                    min_samples_leaf=2, max_features='sqrt', max_depth=22,class_weight='balanced')\n",
    "model.fit(features_upsampled, target_upsampled) \n",
    "probabilities_one_test = model.predict_proba(features_test)[:, 1]\n",
    "print(\"f1 score:\", f1_score(target_test,model.predict(features_test)))\n",
    "print(\"ROC-AUC:\", roc_auc_score(target_test, probabilities_one_test))"
   ]
  },
  {
   "cell_type": "markdown",
   "metadata": {},
   "source": [
    "Тестовое значение f1-score составляет 0.60, ROC-AUC - 0.85, что немного меньше, чем на валидации. Это говорит о том, что присутствует переобучение модели в результате поиска идеальных гиперпараметров. "
   ]
  },
  {
   "cell_type": "markdown",
   "metadata": {},
   "source": [
    "Проверим модель на адекватность"
   ]
  },
  {
   "cell_type": "code",
   "execution_count": 231,
   "metadata": {},
   "outputs": [
    {
     "name": "stdout",
     "output_type": "stream",
     "text": [
      "f1 score: 0.3381803074366431\n",
      "ROC-AUC: 0.8523330726720558\n"
     ]
    }
   ],
   "source": [
    "model = DummyClassifier(strategy = 'most_frequent', random_state = 12345) \n",
    "model.fit(features_upsampled, target_upsampled)\n",
    "print(\"f1 score:\", f1_score(target_test,model.predict(features_test)))\n",
    "print(\"ROC-AUC:\", roc_auc_score(target_test, probabilities_one_test))"
   ]
  },
  {
   "cell_type": "markdown",
   "metadata": {},
   "source": [
    "Метрика f1 score DummyClassifier на тестовой выборке равна 0.34 ,а полученная нами модель имеет значение 0.6. Таким образом, мы можем считать модель адекватной для использования."
   ]
  },
  {
   "cell_type": "markdown",
   "metadata": {},
   "source": [
    "**Вывод:**\n",
    "\n",
    "    1. Проведен Exploration data analysis:\n",
    "        - заменены пропуски\n",
    "        - форматирование параметров\n",
    "        - оптимизированы типы\n",
    "        - анализ корреляционных признаков   \n",
    "    2. Применена техника прямого кодирования One-Hot Encoding\n",
    "    3. Маштабированы количественные признаки с помощью метода стандартизаци данных.\n",
    "    4. Исследован баланс классов\n",
    "    5. В ходе исследования мы обучили и проверили влияние методов исправления дисбаланса на точность четырех моделей:\n",
    "        - Логистическая регрессия\n",
    "        - Случайный лес\n",
    "        - Древо решений\n",
    "        - XGB\n",
    "    6. Путем тестирования модели выявилено незначительное переобучение \n",
    "    7. Проведена проверка модели на адекватность, сравнив результаты с результатами случайной модели.\n",
    "    8. Для решения задачи классификации предлагается использовать модель RandomForestClassifier с балансировкой классов на данных, обработанных с помощью upsampling и следующими гиперпараметрами модели: \n",
    "        'n_estimators': 125,175,212\n",
    "        'min_samples_split': 3,5\n",
    "        'min_samples_leaf': 2,4\n",
    "        'max_features': 'sqrt','log2\n",
    "        'max_depth': 17\n",
    "\n",
    "f1-score итоговой модели на тестовой выборке составляет: **0.6**, ROC-AUC - **0.85**"
   ]
  },
  {
   "cell_type": "markdown",
   "metadata": {},
   "source": [
    "## Чек-лист готовности проекта"
   ]
  },
  {
   "cell_type": "markdown",
   "metadata": {},
   "source": [
    "Поставьте 'x' в выполненных пунктах. Далее нажмите Shift+Enter."
   ]
  },
  {
   "cell_type": "markdown",
   "metadata": {},
   "source": [
    "- [x]  Jupyter Notebook открыт\n",
    "- [x]  Весь код выполняется без ошибок\n",
    "- [x]  Ячейки с кодом расположены в порядке исполнения\n",
    "- [x]  Выполнен шаг 1: данные подготовлены\n",
    "- [x]  Выполнен шаг 2: задача исследована\n",
    "    - [x]  Исследован баланс классов\n",
    "    - [x]  Изучены модели без учёта дисбаланса\n",
    "    - [x]  Написаны выводы по результатам исследования\n",
    "- [x]  Выполнен шаг 3: учтён дисбаланс\n",
    "    - [x]  Применено несколько способов борьбы с дисбалансом\n",
    "    - [x]  Написаны выводы по результатам исследования\n",
    "- [x]  Выполнен шаг 4: проведено тестирование\n",
    "- [x]  Удалось достичь *F1*-меры не менее 0.59\n",
    "- [x]  Исследована метрика *AUC-ROC*"
   ]
  },
  {
   "cell_type": "code",
   "execution_count": null,
   "metadata": {},
   "outputs": [],
   "source": []
  }
 ],
 "metadata": {
  "ExecuteTimeLog": [
   {
    "duration": 1603,
    "start_time": "2022-04-07T10:03:29.496Z"
   },
   {
    "duration": 7,
    "start_time": "2022-04-07T10:03:31.102Z"
   },
   {
    "duration": 132,
    "start_time": "2022-04-07T10:03:31.112Z"
   },
   {
    "duration": 38,
    "start_time": "2022-04-07T10:03:31.247Z"
   },
   {
    "duration": 58,
    "start_time": "2022-04-07T10:04:06.959Z"
   },
   {
    "duration": 62,
    "start_time": "2022-04-07T10:04:16.119Z"
   },
   {
    "duration": 5,
    "start_time": "2022-04-07T10:06:06.598Z"
   },
   {
    "duration": 8,
    "start_time": "2022-04-07T10:06:07.006Z"
   },
   {
    "duration": 45,
    "start_time": "2022-04-07T10:06:07.358Z"
   },
   {
    "duration": 31,
    "start_time": "2022-04-07T10:06:10.302Z"
   },
   {
    "duration": 50,
    "start_time": "2022-04-07T10:06:12.830Z"
   },
   {
    "duration": 144,
    "start_time": "2022-04-07T10:13:23.643Z"
   },
   {
    "duration": 596,
    "start_time": "2022-04-07T10:13:41.419Z"
   },
   {
    "duration": 32,
    "start_time": "2022-04-07T10:13:45.026Z"
   },
   {
    "duration": 99,
    "start_time": "2022-04-07T10:14:00.138Z"
   },
   {
    "duration": 1666,
    "start_time": "2022-04-07T10:14:03.578Z"
   },
   {
    "duration": 11,
    "start_time": "2022-04-07T10:17:15.192Z"
   },
   {
    "duration": 101,
    "start_time": "2022-04-07T10:17:26.032Z"
   },
   {
    "duration": 56,
    "start_time": "2022-04-07T10:21:13.039Z"
   },
   {
    "duration": 6,
    "start_time": "2022-04-07T11:50:48.171Z"
   },
   {
    "duration": 6,
    "start_time": "2022-04-07T11:51:08.555Z"
   },
   {
    "duration": 20,
    "start_time": "2022-04-07T11:51:34.755Z"
   },
   {
    "duration": 15,
    "start_time": "2022-04-07T12:00:49.710Z"
   },
   {
    "duration": 18,
    "start_time": "2022-04-07T12:01:18.526Z"
   },
   {
    "duration": 20,
    "start_time": "2022-04-07T12:01:43.645Z"
   },
   {
    "duration": 64,
    "start_time": "2022-04-07T12:02:02.949Z"
   },
   {
    "duration": 82,
    "start_time": "2022-04-07T12:02:19.799Z"
   },
   {
    "duration": 19,
    "start_time": "2022-04-07T12:03:16.500Z"
   },
   {
    "duration": 1635,
    "start_time": "2022-04-07T12:03:26.123Z"
   },
   {
    "duration": 5,
    "start_time": "2022-04-07T12:04:59.020Z"
   },
   {
    "duration": 52,
    "start_time": "2022-04-07T12:04:59.827Z"
   },
   {
    "duration": 31,
    "start_time": "2022-04-07T12:05:01.252Z"
   },
   {
    "duration": 1452,
    "start_time": "2022-04-07T12:05:02.459Z"
   },
   {
    "duration": 35,
    "start_time": "2022-04-07T12:05:10.275Z"
   },
   {
    "duration": 5,
    "start_time": "2022-04-07T12:05:41.530Z"
   },
   {
    "duration": 28,
    "start_time": "2022-04-07T12:09:48.639Z"
   },
   {
    "duration": 14,
    "start_time": "2022-04-07T12:11:42.520Z"
   },
   {
    "duration": 31,
    "start_time": "2022-04-07T12:11:51.776Z"
   },
   {
    "duration": 17,
    "start_time": "2022-04-07T12:12:14.423Z"
   },
   {
    "duration": 23,
    "start_time": "2022-04-07T12:12:31.519Z"
   },
   {
    "duration": 25,
    "start_time": "2022-04-07T12:12:52.398Z"
   },
   {
    "duration": 12,
    "start_time": "2022-04-07T12:13:07.222Z"
   },
   {
    "duration": 10,
    "start_time": "2022-04-07T12:13:21.007Z"
   },
   {
    "duration": 24,
    "start_time": "2022-04-07T12:13:31.095Z"
   },
   {
    "duration": 23,
    "start_time": "2022-04-07T12:13:41.182Z"
   },
   {
    "duration": 19,
    "start_time": "2022-04-07T12:14:04.751Z"
   },
   {
    "duration": 21,
    "start_time": "2022-04-07T12:14:12.790Z"
   },
   {
    "duration": 17,
    "start_time": "2022-04-07T12:14:36.086Z"
   },
   {
    "duration": 20,
    "start_time": "2022-04-07T12:14:48.966Z"
   },
   {
    "duration": 21,
    "start_time": "2022-04-07T12:15:12.309Z"
   },
   {
    "duration": 21,
    "start_time": "2022-04-07T12:15:33.694Z"
   },
   {
    "duration": 16,
    "start_time": "2022-04-07T12:15:41.662Z"
   },
   {
    "duration": 21,
    "start_time": "2022-04-07T12:15:46.877Z"
   },
   {
    "duration": 17,
    "start_time": "2022-04-07T12:16:43.062Z"
   },
   {
    "duration": 0,
    "start_time": "2022-04-07T12:17:05.077Z"
   },
   {
    "duration": 19,
    "start_time": "2022-04-07T12:17:12.109Z"
   },
   {
    "duration": 13,
    "start_time": "2022-04-07T12:17:19.525Z"
   },
   {
    "duration": 13,
    "start_time": "2022-04-07T12:17:26.204Z"
   },
   {
    "duration": 14,
    "start_time": "2022-04-07T12:17:34.140Z"
   },
   {
    "duration": 7,
    "start_time": "2022-04-07T12:17:45.460Z"
   },
   {
    "duration": 18,
    "start_time": "2022-04-07T12:18:19.780Z"
   },
   {
    "duration": 11,
    "start_time": "2022-04-07T12:18:23.924Z"
   },
   {
    "duration": 12,
    "start_time": "2022-04-07T12:18:39.267Z"
   },
   {
    "duration": 44,
    "start_time": "2022-04-07T12:18:53.752Z"
   },
   {
    "duration": 4,
    "start_time": "2022-04-07T12:18:56.250Z"
   },
   {
    "duration": 30,
    "start_time": "2022-04-07T12:19:01.877Z"
   },
   {
    "duration": 16,
    "start_time": "2022-04-07T12:19:13.731Z"
   },
   {
    "duration": 21,
    "start_time": "2022-04-07T12:19:29.307Z"
   },
   {
    "duration": 22,
    "start_time": "2022-04-07T12:19:37.916Z"
   },
   {
    "duration": 19,
    "start_time": "2022-04-07T12:20:07.355Z"
   },
   {
    "duration": 27,
    "start_time": "2022-04-07T12:20:12.251Z"
   },
   {
    "duration": 23,
    "start_time": "2022-04-07T12:20:25.675Z"
   },
   {
    "duration": 5,
    "start_time": "2022-04-07T12:20:54.595Z"
   },
   {
    "duration": 19,
    "start_time": "2022-04-07T12:21:05.745Z"
   },
   {
    "duration": 4,
    "start_time": "2022-04-07T12:21:21.019Z"
   },
   {
    "duration": 37,
    "start_time": "2022-04-07T12:21:27.410Z"
   },
   {
    "duration": 19,
    "start_time": "2022-04-07T12:21:48.970Z"
   },
   {
    "duration": 26,
    "start_time": "2022-04-07T12:21:53.706Z"
   },
   {
    "duration": 7,
    "start_time": "2022-04-07T12:22:28.207Z"
   },
   {
    "duration": 25,
    "start_time": "2022-04-07T12:22:45.876Z"
   },
   {
    "duration": 6,
    "start_time": "2022-04-07T12:23:10.002Z"
   },
   {
    "duration": 6,
    "start_time": "2022-04-07T12:23:18.841Z"
   },
   {
    "duration": 98,
    "start_time": "2022-04-07T12:24:57.296Z"
   },
   {
    "duration": 88,
    "start_time": "2022-04-07T12:25:12.392Z"
   },
   {
    "duration": 5,
    "start_time": "2022-04-07T12:25:20.560Z"
   },
   {
    "duration": 21,
    "start_time": "2022-04-07T12:26:28.920Z"
   },
   {
    "duration": 20,
    "start_time": "2022-04-07T12:26:35.576Z"
   },
   {
    "duration": 20,
    "start_time": "2022-04-07T12:26:40.639Z"
   },
   {
    "duration": 21,
    "start_time": "2022-04-07T12:26:55.744Z"
   },
   {
    "duration": 21,
    "start_time": "2022-04-07T12:27:08.191Z"
   },
   {
    "duration": 21,
    "start_time": "2022-04-07T12:27:23.695Z"
   },
   {
    "duration": 21,
    "start_time": "2022-04-07T12:27:29.423Z"
   },
   {
    "duration": 20,
    "start_time": "2022-04-07T12:27:34.631Z"
   },
   {
    "duration": 28,
    "start_time": "2022-04-07T12:27:38.568Z"
   },
   {
    "duration": 6,
    "start_time": "2022-04-07T12:28:25.191Z"
   },
   {
    "duration": 6,
    "start_time": "2022-04-07T12:28:30.100Z"
   },
   {
    "duration": 5,
    "start_time": "2022-04-07T12:28:32.623Z"
   },
   {
    "duration": 376,
    "start_time": "2022-04-07T12:29:03.863Z"
   },
   {
    "duration": 19,
    "start_time": "2022-04-07T12:29:13.783Z"
   },
   {
    "duration": 7,
    "start_time": "2022-04-07T12:29:30.695Z"
   },
   {
    "duration": 7,
    "start_time": "2022-04-07T12:29:35.950Z"
   },
   {
    "duration": 21,
    "start_time": "2022-04-07T12:29:58.799Z"
   },
   {
    "duration": 21,
    "start_time": "2022-04-07T12:30:18.110Z"
   },
   {
    "duration": 22,
    "start_time": "2022-04-07T12:34:24.661Z"
   },
   {
    "duration": 24,
    "start_time": "2022-04-07T12:35:13.748Z"
   },
   {
    "duration": 8,
    "start_time": "2022-04-07T12:38:31.733Z"
   },
   {
    "duration": 21,
    "start_time": "2022-04-07T12:38:35.715Z"
   },
   {
    "duration": 22,
    "start_time": "2022-04-07T12:38:43.627Z"
   },
   {
    "duration": 23,
    "start_time": "2022-04-07T12:39:58.212Z"
   },
   {
    "duration": 18,
    "start_time": "2022-04-07T12:47:32.424Z"
   },
   {
    "duration": 11,
    "start_time": "2022-04-07T12:49:05.103Z"
   },
   {
    "duration": 11,
    "start_time": "2022-04-07T12:49:10.175Z"
   },
   {
    "duration": 27,
    "start_time": "2022-04-07T12:49:14.393Z"
   },
   {
    "duration": 55,
    "start_time": "2022-04-07T12:49:24.093Z"
   },
   {
    "duration": 8,
    "start_time": "2022-04-07T12:50:58.590Z"
   },
   {
    "duration": 27,
    "start_time": "2022-04-07T12:51:17.893Z"
   },
   {
    "duration": 18,
    "start_time": "2022-04-07T12:51:20.695Z"
   },
   {
    "duration": 11,
    "start_time": "2022-04-07T12:51:35.869Z"
   },
   {
    "duration": 8,
    "start_time": "2022-04-07T12:51:44.301Z"
   },
   {
    "duration": 8,
    "start_time": "2022-04-07T12:53:28.724Z"
   },
   {
    "duration": 7,
    "start_time": "2022-04-07T12:53:33.699Z"
   },
   {
    "duration": 6,
    "start_time": "2022-04-07T12:53:35.068Z"
   },
   {
    "duration": 8,
    "start_time": "2022-04-07T12:53:37.876Z"
   },
   {
    "duration": 8,
    "start_time": "2022-04-07T12:53:38.948Z"
   },
   {
    "duration": 322,
    "start_time": "2022-04-07T12:55:31.572Z"
   },
   {
    "duration": 21,
    "start_time": "2022-04-07T12:58:19.283Z"
   },
   {
    "duration": 25,
    "start_time": "2022-04-07T12:58:25.299Z"
   },
   {
    "duration": 8,
    "start_time": "2022-04-07T12:58:34.330Z"
   },
   {
    "duration": 16,
    "start_time": "2022-04-07T12:58:43.658Z"
   },
   {
    "duration": 14,
    "start_time": "2022-04-07T12:58:47.329Z"
   },
   {
    "duration": 1984,
    "start_time": "2022-04-07T13:04:27.645Z"
   },
   {
    "duration": 11,
    "start_time": "2022-04-07T13:04:29.632Z"
   },
   {
    "duration": 58,
    "start_time": "2022-04-07T13:04:29.645Z"
   },
   {
    "duration": 5,
    "start_time": "2022-04-07T13:04:29.706Z"
   },
   {
    "duration": 9,
    "start_time": "2022-04-07T13:04:29.713Z"
   },
   {
    "duration": 8,
    "start_time": "2022-04-07T13:04:29.724Z"
   },
   {
    "duration": 7,
    "start_time": "2022-04-07T13:04:29.734Z"
   },
   {
    "duration": 8,
    "start_time": "2022-04-07T13:04:29.776Z"
   },
   {
    "duration": 8,
    "start_time": "2022-04-07T13:04:29.787Z"
   },
   {
    "duration": 5,
    "start_time": "2022-04-07T13:04:29.799Z"
   },
   {
    "duration": 9,
    "start_time": "2022-04-07T13:04:29.806Z"
   },
   {
    "duration": 84,
    "start_time": "2022-04-07T13:04:29.817Z"
   },
   {
    "duration": 32,
    "start_time": "2022-04-07T13:04:29.904Z"
   },
   {
    "duration": 1516,
    "start_time": "2022-04-07T13:04:29.938Z"
   },
   {
    "duration": 33,
    "start_time": "2022-04-07T13:04:31.456Z"
   },
   {
    "duration": 30,
    "start_time": "2022-04-07T13:04:31.491Z"
   },
   {
    "duration": 22,
    "start_time": "2022-04-07T13:04:31.523Z"
   },
   {
    "duration": 29,
    "start_time": "2022-04-07T13:04:31.547Z"
   },
   {
    "duration": 24,
    "start_time": "2022-04-07T13:04:31.579Z"
   },
   {
    "duration": 17,
    "start_time": "2022-04-07T13:04:31.605Z"
   },
   {
    "duration": 91,
    "start_time": "2022-04-07T13:04:31.624Z"
   },
   {
    "duration": 208,
    "start_time": "2022-04-07T13:04:31.717Z"
   },
   {
    "duration": 10,
    "start_time": "2022-04-07T13:07:41.302Z"
   },
   {
    "duration": 32,
    "start_time": "2022-04-07T13:07:48.822Z"
   },
   {
    "duration": 2406,
    "start_time": "2022-04-07T13:07:53.851Z"
   },
   {
    "duration": 28,
    "start_time": "2022-04-07T13:07:56.261Z"
   },
   {
    "duration": 65,
    "start_time": "2022-04-07T13:07:56.292Z"
   },
   {
    "duration": 5,
    "start_time": "2022-04-07T13:07:56.361Z"
   },
   {
    "duration": 13,
    "start_time": "2022-04-07T13:07:56.371Z"
   },
   {
    "duration": 24,
    "start_time": "2022-04-07T13:07:56.386Z"
   },
   {
    "duration": 9,
    "start_time": "2022-04-07T13:07:56.412Z"
   },
   {
    "duration": 8,
    "start_time": "2022-04-07T13:07:56.423Z"
   },
   {
    "duration": 18,
    "start_time": "2022-04-07T13:07:56.433Z"
   },
   {
    "duration": 22,
    "start_time": "2022-04-07T13:07:56.453Z"
   },
   {
    "duration": 28,
    "start_time": "2022-04-07T13:07:56.477Z"
   },
   {
    "duration": 101,
    "start_time": "2022-04-07T13:07:56.508Z"
   },
   {
    "duration": 38,
    "start_time": "2022-04-07T13:07:56.618Z"
   },
   {
    "duration": 1540,
    "start_time": "2022-04-07T13:07:56.660Z"
   },
   {
    "duration": 31,
    "start_time": "2022-04-07T13:07:58.203Z"
   },
   {
    "duration": 29,
    "start_time": "2022-04-07T13:07:58.236Z"
   },
   {
    "duration": 29,
    "start_time": "2022-04-07T13:07:58.268Z"
   },
   {
    "duration": 37,
    "start_time": "2022-04-07T13:07:58.299Z"
   },
   {
    "duration": 43,
    "start_time": "2022-04-07T13:07:58.339Z"
   },
   {
    "duration": 27,
    "start_time": "2022-04-07T13:07:58.385Z"
   },
   {
    "duration": 81,
    "start_time": "2022-04-07T13:07:58.415Z"
   },
   {
    "duration": 56,
    "start_time": "2022-04-07T13:07:58.499Z"
   },
   {
    "duration": 9,
    "start_time": "2022-04-07T13:29:27.329Z"
   }
  ],
  "kernelspec": {
   "display_name": "Python 3",
   "language": "python",
   "name": "python3"
  },
  "language_info": {
   "codemirror_mode": {
    "name": "ipython",
    "version": 3
   },
   "file_extension": ".py",
   "mimetype": "text/x-python",
   "name": "python",
   "nbconvert_exporter": "python",
   "pygments_lexer": "ipython3",
   "version": "3.8.8"
  },
  "toc": {
   "base_numbering": 1,
   "nav_menu": {},
   "number_sections": true,
   "sideBar": true,
   "skip_h1_title": true,
   "title_cell": "Содержание",
   "title_sidebar": "Contents",
   "toc_cell": true,
   "toc_position": {},
   "toc_section_display": true,
   "toc_window_display": true
  }
 },
 "nbformat": 4,
 "nbformat_minor": 2
}
